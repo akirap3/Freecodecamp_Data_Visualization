{
 "cells": [
  {
   "cell_type": "markdown",
   "metadata": {},
   "source": [
    "### _Introduction to the Data Visualization with D3_"
   ]
  },
  {
   "cell_type": "markdown",
   "metadata": {},
   "source": [
    "- D3.js, or D3, stands for Data Driven Documents. D3 is a JavaScript library to create dynamic and interactive data visualizations in the browser. It's built to work with common web standards, namely HTML, CSS, and Scalable Vector Graphics (SVG)."
   ]
  },
  {
   "cell_type": "markdown",
   "metadata": {},
   "source": [
    "- D3 takes input data and maps it into a visual representation of that data. It supports many different data formats. D3 lets you bind (or attach) the data to the Document Object Model (DOM). You use HTML or SVG elements with D3's built-in methods to transform the data into a visualization."
   ]
  },
  {
   "cell_type": "markdown",
   "metadata": {},
   "source": [
    "---\n",
    "---"
   ]
  },
  {
   "cell_type": "markdown",
   "metadata": {},
   "source": [
    "### _Add Document Elements with D3_"
   ]
  },
  {
   "cell_type": "markdown",
   "metadata": {},
   "source": [
    "- D3 has several methods that let you add and change elements in your document."
   ]
  },
  {
   "cell_type": "markdown",
   "metadata": {},
   "source": [
    "- The `select()` method selects one element from the document. It takes an argument for the name of the element you want and returns an HTML node for the first element in the document that matches the name. Here's an example:   `const anchor = d3.select(\"a\");`"
   ]
  },
  {
   "cell_type": "markdown",
   "metadata": {},
   "source": [
    "- The above example finds the first anchor tag on the page and saves an HTML node for it in the variable `anchor`. You can use the selection with other methods. The \"d3\" part of the example is a reference to the D3 object, which is how you access D3 methods."
   ]
  },
  {
   "cell_type": "markdown",
   "metadata": {},
   "source": [
    "- Two other useful methods are `append()` and `text()`.\n",
    "    - The `append()` method takes an argument for the element you want to add to the document. It appends an HTML node to a selected item, and returns a handle to that node.\n",
    "    - The `text()` method either sets the text of the selected node, or gets the current text. To set the value, you pass a string as an argument inside the parentheses of the method."
   ]
  },
  {
   "cell_type": "markdown",
   "metadata": {},
   "source": [
    "- D3 allows you to chain several methods together with periods to perform a number of actions in a row."
   ]
  },
  {
   "cell_type": "markdown",
   "metadata": {},
   "source": [
    "- Example: Use the `select` method to select the `body` tag in the document. Then `append` an `h1` tag to it, and add the text \"Learning D3\" into the `h1` element."
   ]
  },
  {
   "cell_type": "markdown",
   "metadata": {},
   "source": [
    "```html\n",
    "<body>\n",
    "  <script>\n",
    "    d3.select(\"body\")\n",
    "      .append(\"h1\")\n",
    "      .text(\"Learning D3\")\n",
    "  </script>\n",
    "</body>\n",
    "\n",
    "```"
   ]
  },
  {
   "cell_type": "markdown",
   "metadata": {},
   "source": [
    "<hr>\n",
    "<hr>"
   ]
  },
  {
   "cell_type": "markdown",
   "metadata": {},
   "source": [
    "### _Select a Group of Elements with D3_"
   ]
  },
  {
   "cell_type": "markdown",
   "metadata": {},
   "source": [
    "- D3 also has the `selectAll()` method to select a group of elements. It returns an array of HTML nodes for all the items in the document that match the input string. Here's an example to select all the anchor tags in a document:"
   ]
  },
  {
   "cell_type": "markdown",
   "metadata": {},
   "source": [
    "```js\n",
    "const anchors = d3.selectAll(\"a\");\n",
    "```"
   ]
  },
  {
   "cell_type": "markdown",
   "metadata": {},
   "source": [
    "- Like the `select()` method, `selectAll()` supports method chaining, and you can use it with other methods."
   ]
  },
  {
   "cell_type": "markdown",
   "metadata": {},
   "source": [
    "- Example: Select all of the `li` tags in the document, and change their text to \"list item\" by chaining the `.text()` method."
   ]
  },
  {
   "cell_type": "markdown",
   "metadata": {},
   "source": [
    "```html\n",
    "<body>\n",
    "  <ul>\n",
    "    <li>Example</li>\n",
    "    <li>Example</li>\n",
    "    <li>Example</li>\n",
    "  </ul>\n",
    "  <script>\n",
    "    d3.selectAll(\"li\")\n",
    "      .text(\"list item\")\n",
    "  </script>\n",
    "</body>\n",
    "\n",
    "```"
   ]
  },
  {
   "cell_type": "markdown",
   "metadata": {},
   "source": [
    "<hr>\n",
    "<hr>"
   ]
  },
  {
   "cell_type": "markdown",
   "metadata": {},
   "source": [
    "### _Work with Data in D3_"
   ]
  },
  {
   "cell_type": "markdown",
   "metadata": {},
   "source": [
    "- The D3 library focuses on a data-driven approach. When you have a set of data, you can apply D3 methods to display it on the page. Data comes in many formats, but this challenge uses a simple array of numbers."
   ]
  },
  {
   "cell_type": "markdown",
   "metadata": {},
   "source": [
    "- The first step is to make D3 aware of the data. The `data()` method is used on a selection of DOM elements to attach the data to those elements. The data set is passed as an argument to the method."
   ]
  },
  {
   "cell_type": "markdown",
   "metadata": {},
   "source": [
    "- A common workflow pattern is to create a new element in the document for each piece of data in the set. D3 has the `enter()` method for this purpose."
   ]
  },
  {
   "cell_type": "markdown",
   "metadata": {},
   "source": [
    "- When `enter()` is combined with the `data()` method, it looks at the selected elements from the page and compares them to the number of data items in the set. If there are fewer elements than data items, it creates the missing elements."
   ]
  },
  {
   "cell_type": "markdown",
   "metadata": {},
   "source": [
    "- Example: Select the `body` node, then select all `h2` elements. Have D3 create and append an `h2` tag for each item in the `dataset` array. The text in the h2 should say \"New Title\". Your code should use the `data()` and `enter()` methods."
   ]
  },
  {
   "cell_type": "markdown",
   "metadata": {},
   "source": [
    "```html\n",
    "<body>\n",
    "  <script>\n",
    "    const dataset = [12, 31, 22, 17, 25, 18, 29, 14, 9];\n",
    "    d3.select(\"body\")\n",
    "      .selectAll(\"h2\")\n",
    "      .data(dataset)\n",
    "      .enter()\n",
    "      .append(\"h2\")\n",
    "      .text(\"New Title\")\n",
    "  </script>\n",
    "</body>\n",
    "\n",
    "```"
   ]
  },
  {
   "cell_type": "markdown",
   "metadata": {},
   "source": [
    "<hr>\n",
    "<hr>"
   ]
  },
  {
   "cell_type": "markdown",
   "metadata": {},
   "source": [
    "### _Work with Dynamic Data in D3_"
   ]
  },
  {
   "cell_type": "markdown",
   "metadata": {},
   "source": [
    "- The D3 `text()` method can take a string or a callback function as an argument:\n",
    "```\n",
    "selection.text((d) => d)\n",
    "```"
   ]
  },
  {
   "cell_type": "markdown",
   "metadata": {},
   "source": [
    "- In the example above, the parameter `d` refers to a single entry in the dataset that a selection is bound to."
   ]
  },
  {
   "cell_type": "markdown",
   "metadata": {},
   "source": [
    "- Example: Change the `text()` method so that each `h2` element displays the corresponding value from the `dataset` array with a single space and \"USD\". For example, the first heading should be \"12 USD\"."
   ]
  },
  {
   "cell_type": "markdown",
   "metadata": {},
   "source": [
    "#### Soulution 1:"
   ]
  },
  {
   "cell_type": "markdown",
   "metadata": {},
   "source": [
    "```html\n",
    "<body>\n",
    "  <script>\n",
    "    const dataset = [12, 31, 22, 17, 25, 18, 29, 14, 9];\n",
    "\n",
    "    d3.select(\"body\").selectAll(\"h2\")\n",
    "      .data(dataset)\n",
    "      .enter()\n",
    "      .append(\"h2\")\n",
    "      .text(d => d + \" USD\");\n",
    "      \n",
    "  </script>\n",
    "</body>\n",
    "\n",
    "```"
   ]
  },
  {
   "cell_type": "markdown",
   "metadata": {},
   "source": [
    "#### Solution 2:"
   ]
  },
  {
   "cell_type": "markdown",
   "metadata": {},
   "source": [
    "```html\n",
    "<body>\n",
    "  <script>\n",
    "    const dataset = [12, 31, 22, 17, 25, 18, 29, 14, 9];\n",
    "    \n",
    "    d3.select(\"body\").selectAll(\"h2\")\n",
    "      .data(dataset)\n",
    "      .enter()\n",
    "      .append(\"h2\")\n",
    "      .text((d) => `${d} USD`);\n",
    "      \n",
    "  </script>\n",
    "</body> \n",
    "```"
   ]
  },
  {
   "cell_type": "markdown",
   "metadata": {},
   "source": [
    "<hr>\n",
    "<hr>"
   ]
  },
  {
   "cell_type": "markdown",
   "metadata": {},
   "source": [
    "### _Add Inline Styling to Elements_"
   ]
  },
  {
   "cell_type": "markdown",
   "metadata": {},
   "source": [
    "- D3 lets you add inline CSS styles on dynamic elements with the `style()` method."
   ]
  },
  {
   "cell_type": "markdown",
   "metadata": {},
   "source": [
    "- The `style()` method takes a comma-separated key-value pair as an argument. Here's an example to set the selection's text color to blue:\n",
    "```html\n",
    "selection.style(\"color\",\"blue\");\n",
    "```"
   ]
  },
  {
   "cell_type": "markdown",
   "metadata": {},
   "source": [
    "- Example: Add the `style()` method to the code in the editor to make all the displayed text have a `font-family` of `verdana`."
   ]
  },
  {
   "cell_type": "markdown",
   "metadata": {},
   "source": [
    "```html\n",
    "<body>\n",
    "  <script>\n",
    "    const dataset = [12, 31, 22, 17, 25, 18, 29, 14, 9];\n",
    "\n",
    "    d3.select(\"body\").selectAll(\"h2\")\n",
    "      .data(dataset)\n",
    "      .enter()\n",
    "      .append(\"h2\")\n",
    "      .text((d) => (d + \" USD\"))\n",
    "      .style(\"font-family\",\"verdana\")\n",
    "      \n",
    "  </script>\n",
    "</body>\n",
    "\n",
    "```"
   ]
  },
  {
   "cell_type": "markdown",
   "metadata": {},
   "source": [
    "<hr>\n",
    "<hr>"
   ]
  },
  {
   "cell_type": "markdown",
   "metadata": {},
   "source": [
    "### _Change Styles Based on Data_"
   ]
  },
  {
   "cell_type": "markdown",
   "metadata": {},
   "source": [
    "- D3 is about visualization and presentation of data. It's likely you'll want to change the styling of elements based on the data. You can use a callback function in the `style()` method to change the styling for different elements."
   ]
  },
  {
   "cell_type": "markdown",
   "metadata": {},
   "source": [
    "- eg.\n",
    "```html\n",
    "selection.style(\"color\", (d) => {\n",
    "  /* Logic that returns the color based on a condition */\n",
    "});\n",
    "```"
   ]
  },
  {
   "cell_type": "markdown",
   "metadata": {},
   "source": [
    "- The `style()` method is not limited to setting the `color` - it can be used with other CSS properties as well."
   ]
  },
  {
   "cell_type": "markdown",
   "metadata": {},
   "source": [
    "- Example: Add the `style()` method to the code in the editor to set the `color` of the `h2` elements conditionally. Write the callback function so if the data value is less than 20, it returns \"red\", otherwise it returns \"green\"."
   ]
  },
  {
   "cell_type": "markdown",
   "metadata": {},
   "source": [
    "```html\n",
    "<body>\n",
    "  <script>\n",
    "    const dataset = [12, 31, 22, 17, 25, 18, 29, 14, 9];\n",
    "\n",
    "    d3.select(\"body\").selectAll(\"h2\")\n",
    "      .data(dataset)\n",
    "      .enter()\n",
    "      .append(\"h2\")\n",
    "      .text((d) => (d + \" USD\"))\n",
    "      .style(\"color\", d => {\n",
    "        if (d < 20) {\n",
    "          return \"red\"\n",
    "        } else {\n",
    "          return \"green\"\n",
    "        }\n",
    "      })\n",
    "  </script>\n",
    "</body>\n",
    "```"
   ]
  },
  {
   "cell_type": "markdown",
   "metadata": {},
   "source": [
    "<hr>\n",
    "<hr>"
   ]
  },
  {
   "cell_type": "markdown",
   "metadata": {},
   "source": [
    "### _Add Classes with D3_"
   ]
  },
  {
   "cell_type": "markdown",
   "metadata": {},
   "source": [
    "- Using a lot of inline styles on HTML elements gets hard to manage, even for smaller apps. It's easier to add a class to elements and style that class one time using CSS rules. D3 has the `attr()` method to add any HTML attribute to an element, including a class name."
   ]
  },
  {
   "cell_type": "markdown",
   "metadata": {},
   "source": [
    "- The `attr()` method works the same way that `style()` does. It takes comma-separated values, and can use a callback function. Here's an example to add a class of \"container\" to a selection:\n",
    "\n",
    "```\n",
    "selection.attr(\"class\", \"container\");\n",
    "\n",
    "```"
   ]
  },
  {
   "cell_type": "markdown",
   "metadata": {},
   "source": [
    "- Example: Add the `attr()` method to the code in the editor and put a class of `bar` on the `div` elements."
   ]
  },
  {
   "cell_type": "markdown",
   "metadata": {},
   "source": [
    "```html\n",
    "<style>\n",
    "  .bar {\n",
    "    width: 25px;\n",
    "    height: 100px;\n",
    "    display: inline-block;\n",
    "    background-color: blue;\n",
    "  }\n",
    "</style>\n",
    "<body>\n",
    "  <script>\n",
    "    const dataset = [12, 31, 22, 17, 25, 18, 29, 14, 9];\n",
    "\n",
    "    d3.select(\"body\").selectAll(\"div\")\n",
    "      .data(dataset)\n",
    "      .enter()\n",
    "      .append(\"div\")\n",
    "      .attr(\"class\",\"bar\")\n",
    "    \n",
    "  </script>\n",
    "</body>\n",
    "\n",
    "```"
   ]
  },
  {
   "cell_type": "markdown",
   "metadata": {},
   "source": [
    "<hr>\n",
    "<hr>"
   ]
  },
  {
   "cell_type": "markdown",
   "metadata": {},
   "source": [
    "### _Update the Height of an Element Dynamically_"
   ]
  },
  {
   "cell_type": "markdown",
   "metadata": {},
   "source": [
    "- Recall the format to set a style using a callback function:\n",
    "    \n",
    "```html\n",
    "selection.style(\"cssProperty\", (d) => d)\n",
    "```"
   ]
  },
  {
   "cell_type": "markdown",
   "metadata": {},
   "source": [
    "- Exaple: Add the `style()` method to the code in the editor to set the `height` property for each element. Use a callback function to return the value of the data point with the string \"px\" added to it."
   ]
  },
  {
   "cell_type": "markdown",
   "metadata": {},
   "source": [
    "```html\n",
    "<style>\n",
    "  .bar {\n",
    "    width: 25px;\n",
    "    height: 100px;\n",
    "    display: inline-block;\n",
    "    background-color: blue;\n",
    "  }\n",
    "</style>\n",
    "<body>\n",
    "  <script>\n",
    "    const dataset = [12, 31, 22, 17, 25, 18, 29, 14, 9];\n",
    "\n",
    "    d3.select(\"body\").selectAll(\"div\")\n",
    "      .data(dataset)\n",
    "      .enter()\n",
    "      .append(\"div\")\n",
    "      .attr(\"class\", \"bar\")\n",
    "      .style(\"height\", d => d + 'px')\n",
    "      // or style(\"height\", d => `${d}px`)\n",
    "  </script>\n",
    "</body>\n",
    "\n",
    "```"
   ]
  },
  {
   "cell_type": "markdown",
   "metadata": {},
   "source": [
    "<hr>\n",
    "<hr>"
   ]
  },
  {
   "cell_type": "markdown",
   "metadata": {},
   "source": [
    "### _Change the Presentation of a Bar Chart_"
   ]
  },
  {
   "cell_type": "markdown",
   "metadata": {},
   "source": [
    "- The last challenge created a bar chart, but there are a couple of formatting changes that could improve it:"
   ]
  },
  {
   "cell_type": "markdown",
   "metadata": {},
   "source": [
    "- 1) Add space between each bar to visually separate them, which is done by adding a margin to the CSS for the `bar` class"
   ]
  },
  {
   "cell_type": "markdown",
   "metadata": {},
   "source": [
    "- 2) Increase the height of the bars to better show the difference in values, which is done by multiplying the value by a number to scale the height"
   ]
  },
  {
   "cell_type": "markdown",
   "metadata": {},
   "source": [
    "- Example: \n",
    "    - First, add a `margin` of 2px to the `bar` class in the `style` tag. Next, change the callback function in the `style()` method so it returns a value 10 times the original data value (plus the \"px\").\n",
    "    - Note: Multiplying each data point by the same constant only alters the scale. It's like zooming in, and it doesn't change the meaning of the underlying data."
   ]
  },
  {
   "cell_type": "markdown",
   "metadata": {},
   "source": [
    "<style>\n",
    "  .bar {\n",
    "    width: 25px;\n",
    "    height: 100px;\n",
    "    margin: 2px;\n",
    "    display: inline-block;\n",
    "    background-color: blue;\n",
    "  }\n",
    "</style>\n",
    "<body>\n",
    "  <script>\n",
    "    const dataset = [12, 31, 22, 17, 25, 18, 29, 14, 9];\n",
    "\n",
    "    d3.select(\"body\").selectAll(\"div\")\n",
    "      .data(dataset)\n",
    "      .enter()\n",
    "      .append(\"div\")\n",
    "      .attr(\"class\", \"bar\")\n",
    "      .style(\"height\", (d) => (d*10 + \"px\"))\n",
    "      \n",
    "  </script>\n",
    "</body>"
   ]
  },
  {
   "cell_type": "markdown",
   "metadata": {},
   "source": [
    "![](./images/bar_chart.png)"
   ]
  },
  {
   "cell_type": "markdown",
   "metadata": {},
   "source": [
    "<hr>\n",
    "<hr>"
   ]
  },
  {
   "cell_type": "markdown",
   "metadata": {},
   "source": [
    "### _Learn About SVG in D3_"
   ]
  },
  {
   "cell_type": "markdown",
   "metadata": {},
   "source": [
    "- SVG stands for Scalable Vector Graphics."
   ]
  },
  {
   "cell_type": "markdown",
   "metadata": {},
   "source": [
    "- Here \"scalable\" means that, if you zoom in or out on an object, it would not appear pixelated. It scales with the display system, whether it's on a small mobile screen or a large TV monitor."
   ]
  },
  {
   "cell_type": "markdown",
   "metadata": {},
   "source": [
    "- SVG is used to make common geometric shapes. Since D3 maps data into a visual representation, it uses SVG to create the shapes for the visualization. SVG shapes for a web page must go within an HTML `svg` tag."
   ]
  },
  {
   "cell_type": "markdown",
   "metadata": {},
   "source": [
    "- CSS can be scalable when styles use relative units (such as `vh`, `vw`, or percentages), but using SVG is more flexible to build data visualizations."
   ]
  },
  {
   "cell_type": "markdown",
   "metadata": {},
   "source": [
    "- Example:\n",
    "    - Add an `svg` node to the `body` using `append()`. Give it a `width` attribute set to the provided `w` constant and a `height` attribute set to the provided `h` constant using the `attr()` or `style()` methods for each. You'll see it in the output because there's a `background-color` of pink applied to it in the `style` tag.\n",
    "    - Note: When using `attr()` width and height attributes do not have units. This is the building block of scaling - the element will always have a 5:1 width to height ratio, no matter what the zoom level is."
   ]
  },
  {
   "cell_type": "markdown",
   "metadata": {},
   "source": [
    "```html\n",
    "<style>\n",
    "  svg {\n",
    "    background-color: pink;\n",
    "  }\n",
    "</style>\n",
    "<body>\n",
    "  <script>\n",
    "    const dataset = [12, 31, 22, 17, 25, 18, 29, 14, 9];\n",
    "    const w = 500;\n",
    "    const h = 100;\n",
    "    const svg = d3.select(\"body\")\n",
    "                  .append(\"svg\")\n",
    "                  .attr(\"width\",w)\n",
    "                  .attr(\"height\",h)\n",
    "  </script>\n",
    "</body>\n",
    "```"
   ]
  },
  {
   "cell_type": "markdown",
   "metadata": {},
   "source": [
    "<hr>\n",
    "<hr>"
   ]
  },
  {
   "cell_type": "markdown",
   "metadata": {},
   "source": [
    "### _Display Shapes with SVG_"
   ]
  },
  {
   "cell_type": "markdown",
   "metadata": {},
   "source": [
    "- The last challenge created an `svg` element with a given width and height, which was visible because it had a `background-color` applied to it in the `style` tag. The code made space for the given width and height."
   ]
  },
  {
   "cell_type": "markdown",
   "metadata": {},
   "source": [
    "- The next step is to create a shape to put in the `svg` area. There are a number of supported shapes in SVG, such as rectangles and circles. They are used to display data. For example, a rectangle (`<rect>`) SVG shape could create a bar in a bar chart."
   ]
  },
  {
   "cell_type": "markdown",
   "metadata": {},
   "source": [
    "- When you place a shape into the `svg` area, you can specify where it goes with `x` and `y` coordinates. The origin point of (0, 0) is in the upper-left corner. Positive values for `x` push the shape to the right, and positive values for `y` push the shape down from the origin point."
   ]
  },
  {
   "cell_type": "markdown",
   "metadata": {},
   "source": [
    "- To place a shape in the middle of the 500 (width) x 100 (height) `svg` from last challenge, the `x` coordinate would be 250 and the `y` coordinate would be 50."
   ]
  },
  {
   "cell_type": "markdown",
   "metadata": {},
   "source": [
    "- An SVG `rect` has four attributes. There are the `x` and `y` coordinates for where it is placed in the `svg` area. It also has a `height` and `width` to specify the size.\n",
    "\n"
   ]
  },
  {
   "cell_type": "markdown",
   "metadata": {},
   "source": [
    "- Example: Add a `rect` shape to the `svg` using `append()`, and give it a `width` attribute of 25 and `height` attribute of 100. Also, give the `rect` `x` and `y` attributes each set to 0."
   ]
  },
  {
   "cell_type": "markdown",
   "metadata": {},
   "source": [
    "```html\n",
    "<body>\n",
    "  <script>\n",
    "    const dataset = [12, 31, 22, 17, 25, 18, 29, 14, 9];\n",
    "\n",
    "    const w = 500;\n",
    "    const h = 100;\n",
    "\n",
    "    const svg = d3.select(\"body\")\n",
    "                  .append(\"svg\")\n",
    "                  .attr(\"width\", w)\n",
    "                  .attr(\"height\", h)\n",
    "                  .append(\"rect\")\n",
    "                  .attr(\"width\", 25)\n",
    "                  .attr(\"height\", 100)\n",
    "                  .attr(\"x\", 0)\n",
    "                  .attr(\"y\", 0)\n",
    "  </script>\n",
    "</body>\n",
    "```"
   ]
  },
  {
   "cell_type": "markdown",
   "metadata": {},
   "source": [
    "<hr>\n",
    "<hr>"
   ]
  },
  {
   "cell_type": "markdown",
   "metadata": {},
   "source": [
    "### _Create a Bar for Each Data Point in the Set_"
   ]
  },
  {
   "cell_type": "markdown",
   "metadata": {},
   "source": [
    "- Example: Use the `data()`, `enter()`, and `append()` methods to create and append a `rect` for each item in `dataset`. The bars should display all on top of each other, this will be fixed in the next challenge."
   ]
  },
  {
   "cell_type": "markdown",
   "metadata": {},
   "source": [
    "```html\n",
    "<body>\n",
    "  <script>\n",
    "    const dataset = [12, 31, 22, 17, 25, 18, 29, 14, 9];\n",
    "\n",
    "    const w = 500;\n",
    "    const h = 100;\n",
    "\n",
    "    const svg = d3.select(\"body\")\n",
    "                  .append(\"svg\")\n",
    "                  .attr(\"width\", w)\n",
    "                  .attr(\"height\", h);\n",
    "\n",
    "    svg.selectAll(\"rect\")\n",
    "        .data(dataset)\n",
    "        .enter()\n",
    "        .append(\"rect\")\n",
    "       .attr(\"x\", 0)\n",
    "       .attr(\"y\", 0)\n",
    "       .attr(\"width\", 25)\n",
    "       .attr(\"height\", 100);\n",
    "  </script>\n",
    "</body>\n",
    "\n",
    "```"
   ]
  },
  {
   "cell_type": "markdown",
   "metadata": {},
   "source": [
    "<hr>\n",
    "<hr>"
   ]
  },
  {
   "cell_type": "markdown",
   "metadata": {},
   "source": [
    "### _Dynamically Set the Coordinates for Each Bar_"
   ]
  },
  {
   "cell_type": "markdown",
   "metadata": {},
   "source": [
    "- The last challenge created and appended a rectangle to the `svg` element for each point in `dataset` to represent a bar. Unfortunately, they were all stacked on top of each other."
   ]
  },
  {
   "cell_type": "markdown",
   "metadata": {},
   "source": [
    "- The placement of a rectangle is handled by the `x` and `y` attributes. They tell D3 where to start drawing the shape in the `svg` area. The last challenge set them each to 0, so every bar was placed in the upper-left corner."
   ]
  },
  {
   "cell_type": "markdown",
   "metadata": {},
   "source": [
    "- For a bar chart, all of the bars should sit on the same vertical level, which means the `y` value stays the same (at 0) for all bars. The `x` value, however, needs to change as you add new bars. Remember that larger `x` values push items farther to the right. As you go through the array elements in `dataset`, the `x` value should increase."
   ]
  },
  {
   "cell_type": "markdown",
   "metadata": {},
   "source": [
    "- The `attr()` method in D3 accepts a callback function to dynamically set that attribute. The callback function takes two arguments, one for the data point itself (usually `d`) and one for the index of the data point in the array. The second argument for the index is optional. Here's the format:"
   ]
  },
  {
   "cell_type": "markdown",
   "metadata": {},
   "source": [
    "```html\n",
    "selection.attr(\"property\", (d, i) => {\n",
    "  /* \n",
    "  * d is the data point value\n",
    "  * i is the index of the data point in the array\n",
    "  */\n",
    "})\n",
    "```"
   ]
  },
  {
   "cell_type": "markdown",
   "metadata": {},
   "source": [
    "- It's important to note that you do NOT need to write a `for` loop or use `forEach()` to iterate over the items in the data set. Recall that the `data()` method parses the data set, and any method that's chained after `data()` is run once for each item in the data set."
   ]
  },
  {
   "cell_type": "markdown",
   "metadata": {},
   "source": [
    "- Example: \n",
    "    - Change the `x` attribute callback function so it returns the index times 30.\n",
    "    - Note: Each bar has a width of 25, so increasing each `x` value by 30 adds some space between the bars. Any value greater than 25 would work in this example."
   ]
  },
  {
   "cell_type": "markdown",
   "metadata": {},
   "source": [
    "```html\n",
    "<body>\n",
    "  <script>\n",
    "    const dataset = [12, 31, 22, 17, 25, 18, 29, 14, 9];\n",
    "\n",
    "    const w = 500;\n",
    "    const h = 100;\n",
    "\n",
    "    const svg = d3.select(\"body\")\n",
    "                  .append(\"svg\")\n",
    "                  .attr(\"width\", w)\n",
    "                  .attr(\"height\", h);\n",
    "\n",
    "    svg.selectAll(\"rect\")\n",
    "       .data(dataset)\n",
    "       .enter()\n",
    "       .append(\"rect\")\n",
    "       .attr(\"x\", (d, i) => {\n",
    "          return i*30\n",
    "       })\n",
    "       .attr(\"y\", 0)\n",
    "       .attr(\"width\", 25)\n",
    "       .attr(\"height\", 100);\n",
    "  </script>\n",
    "</body>\n",
    "\n",
    "```"
   ]
  },
  {
   "cell_type": "markdown",
   "metadata": {},
   "source": [
    "![](./images/every_bar.png)"
   ]
  },
  {
   "cell_type": "markdown",
   "metadata": {},
   "source": [
    "<hr>\n",
    "<hr>"
   ]
  },
  {
   "cell_type": "markdown",
   "metadata": {},
   "source": [
    "### _Dynamically Change the Height of Each Bar_"
   ]
  },
  {
   "cell_type": "markdown",
   "metadata": {},
   "source": [
    "- Example: \n",
    "    - Change the callback function for the `height` attribute to return the data value times 3.\n",
    "    - Note: Remember that multiplying all data points by the same constant scales the data (like zooming in). It helps to see the differences between bar values in this example."
   ]
  },
  {
   "cell_type": "markdown",
   "metadata": {},
   "source": [
    "```html\n",
    "<body>\n",
    "  <script>\n",
    "    const dataset = [12, 31, 22, 17, 25, 18, 29, 14, 9];\n",
    "\n",
    "    const w = 500;\n",
    "    const h = 100;\n",
    "\n",
    "    const svg = d3.select(\"body\")\n",
    "                  .append(\"svg\")\n",
    "                  .attr(\"width\", w)\n",
    "                  .attr(\"height\", h);\n",
    "\n",
    "    svg.selectAll(\"rect\")\n",
    "       .data(dataset)\n",
    "       .enter()\n",
    "       .append(\"rect\")\n",
    "       .attr(\"x\", (d, i) => i * 30)\n",
    "       .attr(\"y\", 0)\n",
    "       .attr(\"width\", 25)\n",
    "       .attr(\"height\", (d, i) => {\n",
    "         return d*3\n",
    "       });\n",
    "  </script>\n",
    "</body>\n",
    "```"
   ]
  },
  {
   "cell_type": "markdown",
   "metadata": {},
   "source": [
    "![](./images/the_height_of_each_bar.png)"
   ]
  },
  {
   "cell_type": "markdown",
   "metadata": {},
   "source": [
    "<hr>\n",
    "<hr>"
   ]
  },
  {
   "cell_type": "markdown",
   "metadata": {},
   "source": [
    "### _Invert SVG Elements_"
   ]
  },
  {
   "cell_type": "markdown",
   "metadata": {},
   "source": [
    "- You may have noticed the bar chart looked like it's upside-down, or inverted. This is because of how SVG uses (x, y) coordinates."
   ]
  },
  {
   "cell_type": "markdown",
   "metadata": {},
   "source": [
    "- In SVG, the origin point for the coordinates is in the upper-left corner. An `x` coordinate of 0 places a shape on the left edge of the SVG area. A `y` coordinate of 0 places a shape on the top edge of the SVG area. Higher `x` values push the rectangle to the right. Higher `y` values push the rectangle down."
   ]
  },
  {
   "cell_type": "markdown",
   "metadata": {},
   "source": [
    "- To make the bars right-side-up, you need to change the way the `y` coordinate is calculated. It needs to account for both the height of the bar and the total height of the SVG area."
   ]
  },
  {
   "cell_type": "markdown",
   "metadata": {},
   "source": [
    "- The y coordinate that is `y = heightOfSVG - heightOfBar` would place the bars right-side-up."
   ]
  },
  {
   "cell_type": "markdown",
   "metadata": {},
   "source": [
    "- Example: \n",
    "    - Change the callback function for the `y` attribute to set the bars right-side-up. Remember that the `height` of the bar is 3 times the data value `d`.\n",
    "    - Note: In general, the relationship is `y = h - m * d`, where `m` is the constant that scales the data points."
   ]
  },
  {
   "cell_type": "markdown",
   "metadata": {},
   "source": [
    "```html\n",
    "<body>\n",
    "  <script>\n",
    "    const dataset = [12, 31, 22, 17, 25, 18, 29, 14, 9];\n",
    "\n",
    "    const w = 500;\n",
    "    const h = 100;\n",
    "\n",
    "    const svg = d3.select(\"body\")\n",
    "                  .append(\"svg\")\n",
    "                  .attr(\"width\", w)\n",
    "                  .attr(\"height\", h);\n",
    "\n",
    "    svg.selectAll(\"rect\")\n",
    "       .data(dataset)\n",
    "       .enter()\n",
    "       .append(\"rect\")\n",
    "       .attr(\"x\", (d, i) => i * 30)\n",
    "       .attr(\"y\", (d, i) => { return (h-d*3); })\n",
    "       .attr(\"width\", 25)\n",
    "       .attr(\"height\", (d, i) => 3 * d);\n",
    "  </script>\n",
    "</body>\n",
    "```"
   ]
  },
  {
   "cell_type": "markdown",
   "metadata": {},
   "source": [
    "![](./images/Invert_SVG_Elements.png)"
   ]
  },
  {
   "cell_type": "markdown",
   "metadata": {},
   "source": [
    "<hr>\n",
    "<hr>"
   ]
  },
  {
   "cell_type": "markdown",
   "metadata": {},
   "source": [
    "### _Change the Color of an SVG Element_"
   ]
  },
  {
   "cell_type": "markdown",
   "metadata": {},
   "source": [
    "- In SVG, a `rect` shape is colored with the `fill` attribute. It supports hex codes, color names, and rgb values, as well as more complex options like gradients and transparency."
   ]
  },
  {
   "cell_type": "markdown",
   "metadata": {},
   "source": [
    "- Example: Add an `attr()` method to set the \"fill\" of all the bars to the color \"navy\"."
   ]
  },
  {
   "cell_type": "markdown",
   "metadata": {},
   "source": [
    "```html\n",
    "<body>\n",
    "  <script>\n",
    "    const dataset = [12, 31, 22, 17, 25, 18, 29, 14, 9];\n",
    "\n",
    "    const w = 500;\n",
    "    const h = 100;\n",
    "\n",
    "    const svg = d3.select(\"body\")\n",
    "                  .append(\"svg\")\n",
    "                  .attr(\"width\", w)\n",
    "                  .attr(\"height\", h);\n",
    "\n",
    "    svg.selectAll(\"rect\")\n",
    "       .data(dataset)\n",
    "       .enter()\n",
    "       .append(\"rect\")\n",
    "       .attr(\"x\", (d, i) => i * 30)\n",
    "       .attr(\"y\", (d, i) => h - 3 * d)\n",
    "       .attr(\"width\", 25)\n",
    "       .attr(\"height\", (d, i) => 3 * d)\n",
    "       .attr(\"fill\",\"navy\")\n",
    "  </script>\n",
    "</body>\n",
    "\n",
    "```"
   ]
  },
  {
   "cell_type": "markdown",
   "metadata": {},
   "source": [
    "![](./images/change_color_svg_element.png)"
   ]
  },
  {
   "cell_type": "markdown",
   "metadata": {},
   "source": [
    "<hr>\n",
    "<hr>"
   ]
  },
  {
   "cell_type": "markdown",
   "metadata": {},
   "source": [
    "### _Add Labels to D3 Elements_"
   ]
  },
  {
   "cell_type": "markdown",
   "metadata": {},
   "source": [
    "- D3 lets you label a graph element, such as a bar, using the SVG `text` element."
   ]
  },
  {
   "cell_type": "markdown",
   "metadata": {},
   "source": [
    "- Like the `rect` element, a `text` element needs to have `x` and `y` attributes, to place it on the SVG canvas. It also needs to access the data to display those values."
   ]
  },
  {
   "cell_type": "markdown",
   "metadata": {},
   "source": [
    "- D3 gives you a high level of control over how you label your bars."
   ]
  },
  {
   "cell_type": "markdown",
   "metadata": {},
   "source": [
    "- Example: \n",
    "    - The code in the editor already binds the data to each new `text` element. First, append `text` nodes to the `svg`. Next, add attributes for the `x` and `y` coordinates. They should be calculated the same way as the `rect` ones, except the `y` value for the `text` should make the label sit 3 units higher than the bar. Finally, use the D3 `text()` method to set the label equal to the data point value.\n",
    "\n",
    "    - Note: For the label to sit higher than the bar, decide if the `y` value for the `text` should be 3 greater or 3 less than the `y` value for the bar."
   ]
  },
  {
   "cell_type": "markdown",
   "metadata": {},
   "source": [
    "```html\n",
    "<body>\n",
    "  <script>\n",
    "    const dataset = [12, 31, 22, 17, 25, 18, 29, 14, 9];\n",
    "\n",
    "    const w = 500;\n",
    "    const h = 100;\n",
    "\n",
    "    const svg = d3.select(\"body\")\n",
    "                  .append(\"svg\")\n",
    "                  .attr(\"width\", w)\n",
    "                  .attr(\"height\", h);\n",
    "\n",
    "    svg.selectAll(\"rect\")\n",
    "       .data(dataset)\n",
    "       .enter()\n",
    "       .append(\"rect\")\n",
    "       .attr(\"x\", (d, i) => i * 30)\n",
    "       .attr(\"y\", (d, i) => h - 3 * d)\n",
    "       .attr(\"width\", 25)\n",
    "       .attr(\"height\", (d, i) => 3 * d)\n",
    "       .attr(\"fill\", \"navy\");\n",
    "\n",
    "    svg.selectAll(\"text\")\n",
    "       .data(dataset)\n",
    "       .enter()\n",
    "       .append(\"text\")\n",
    "       .attr(\"x\", (d, i) => i * 30)\n",
    "       .attr(\"y\", (d, i) => h -3 * d -3)\n",
    "       .text(d => d)\n",
    "  </script>\n",
    "<body>\n",
    "\n",
    "```"
   ]
  },
  {
   "cell_type": "markdown",
   "metadata": {},
   "source": [
    "<hr>\n",
    "<hr>"
   ]
  },
  {
   "cell_type": "markdown",
   "metadata": {},
   "source": [
    "### _Style D3 Labels_"
   ]
  },
  {
   "cell_type": "markdown",
   "metadata": {},
   "source": [
    "- D3 methods can add styles to the bar labels. The `fill` attribute sets the color of the `text` for a text node. The `style()` method sets CSS rules for other styles, such as \"font-family\" or \"font-size\"."
   ]
  },
  {
   "cell_type": "markdown",
   "metadata": {},
   "source": [
    "- Example: Set the `font-size` of the `text` elements to 25px, and the color of the text to red."
   ]
  },
  {
   "cell_type": "markdown",
   "metadata": {},
   "source": [
    "```html\n",
    "<body>\n",
    "  <script>\n",
    "    const dataset = [12, 31, 22, 17, 25, 18, 29, 14, 9];\n",
    "\n",
    "    const w = 500;\n",
    "    const h = 100;\n",
    "\n",
    "    const svg = d3.select(\"body\")\n",
    "                  .append(\"svg\")\n",
    "                  .attr(\"width\", w)\n",
    "                  .attr(\"height\", h);\n",
    "\n",
    "    svg.selectAll(\"rect\")\n",
    "       .data(dataset)\n",
    "       .enter()\n",
    "       .append(\"rect\")\n",
    "       .attr(\"x\", (d, i) => i * 30)\n",
    "       .attr(\"y\", (d, i) => h - 3 * d)\n",
    "       .attr(\"width\", 25)\n",
    "       .attr(\"height\", (d, i) => d * 3)\n",
    "       .attr(\"fill\", \"navy\");\n",
    "\n",
    "    svg.selectAll(\"text\")\n",
    "       .data(dataset)\n",
    "       .enter()\n",
    "       .append(\"text\")\n",
    "       .text((d) => d)\n",
    "       .attr(\"x\", (d, i) => i * 30)\n",
    "       .attr(\"y\", (d, i) => h - (3 * d) - 3)\n",
    "       .attr(\"font-size\",\"25px\")\n",
    "       .attr(\"fill\",\"red\")\n",
    "  </script>\n",
    "</body>\n",
    "```"
   ]
  },
  {
   "cell_type": "markdown",
   "metadata": {},
   "source": [
    "![](./images/style_d3_labels.png)"
   ]
  },
  {
   "cell_type": "markdown",
   "metadata": {},
   "source": [
    "<hr>\n",
    "<hr>"
   ]
  },
  {
   "cell_type": "markdown",
   "metadata": {},
   "source": [
    "### _Add a Hover Effect to a D3 Element_"
   ]
  },
  {
   "cell_type": "markdown",
   "metadata": {},
   "source": [
    "- It's possible to add effects that highlight a bar when the user hovers over it with the mouse. So far, the styling for the rectangles is applied with the built-in D3 and SVG methods, but you can use CSS as well."
   ]
  },
  {
   "cell_type": "markdown",
   "metadata": {},
   "source": [
    "- You set the CSS class on the SVG elements with the `attr()` method. Then the `:hover` pseudo-class for your new class holds the style rules for any hover effects."
   ]
  },
  {
   "cell_type": "markdown",
   "metadata": {},
   "source": [
    "- Example: Use the `attr()` method to add a class of `bar` to all the `rect` elements. This changes the `fill` color of the bar to brown when you mouse over it."
   ]
  },
  {
   "cell_type": "markdown",
   "metadata": {},
   "source": [
    "![](./images/add_hover_effect.png)"
   ]
  },
  {
   "cell_type": "markdown",
   "metadata": {},
   "source": [
    "<hr>\n",
    "<hr>"
   ]
  },
  {
   "cell_type": "markdown",
   "metadata": {},
   "source": [
    "### _Add a Tooltip to a D3 Element_"
   ]
  },
  {
   "cell_type": "markdown",
   "metadata": {},
   "source": [
    "- A tooltip shows more information about an item on a page when the user hovers over that item. There are several ways to add a tooltip to a visualization, this challenge uses the SVG `title` element."
   ]
  },
  {
   "cell_type": "markdown",
   "metadata": {},
   "source": [
    "- `title` pairs with the `text()` method to dynamically add data to the bars."
   ]
  },
  {
   "cell_type": "markdown",
   "metadata": {},
   "source": [
    "- Example: Append a `title` element under each `rect` node. Then call the `text()` method with a callback function so the text displays the data value."
   ]
  },
  {
   "cell_type": "markdown",
   "metadata": {},
   "source": [
    "```html\n",
    "<style>\n",
    "  .bar:hover {\n",
    "    fill: brown;\n",
    "  }\n",
    "</style>\n",
    "<body>\n",
    "  <script>\n",
    "    const dataset = [12, 31, 22, 17, 25, 18, 29, 14, 9];\n",
    "\n",
    "    const w = 500;\n",
    "    const h = 200;\n",
    "\n",
    "    const svg = d3.select(\"body\")\n",
    "                  .append(\"svg\")\n",
    "                  .attr(\"width\", w)\n",
    "                  .attr(\"height\", h);\n",
    "\n",
    "    svg.selectAll(\"rect\")\n",
    "       .data(dataset)\n",
    "       .enter()\n",
    "       .append(\"rect\")\n",
    "       .attr(\"x\", (d, i) => i * 30)\n",
    "       .attr(\"y\", (d, i) => h - 3 * d)\n",
    "       .attr(\"width\", 25)\n",
    "       .attr(\"height\", (d, i) => d * 3)\n",
    "       .attr(\"fill\", \"navy\")\n",
    "       .attr(\"class\", \"bar\")\n",
    "       .append(\"title\")\n",
    "       .text((d) => d)\n",
    "      \n",
    "    svg.selectAll(\"text\")\n",
    "       .data(dataset)\n",
    "       .enter()\n",
    "       .append(\"text\")\n",
    "       .text((d) => d)\n",
    "       .attr(\"x\", (d, i) => i * 30)\n",
    "       .attr(\"y\", (d, i) => h - (d * 3 + 3))\n",
    "\n",
    "  </script>\n",
    "</body>\n",
    "\n",
    "```"
   ]
  },
  {
   "cell_type": "markdown",
   "metadata": {},
   "source": [
    "![](./images/add_a_tooltip.png)"
   ]
  },
  {
   "cell_type": "markdown",
   "metadata": {},
   "source": [
    "<hr>\n",
    "<hr>"
   ]
  },
  {
   "cell_type": "markdown",
   "metadata": {},
   "source": [
    "### _Create a Scatterplot with SVG Circles_"
   ]
  },
  {
   "cell_type": "markdown",
   "metadata": {},
   "source": [
    "- A scatter plot is another type of visualization. It usually uses circles to map data points, which have two values each. These values tie to the `x` and `y` axes, and are used to position the circle in the visualization."
   ]
  },
  {
   "cell_type": "markdown",
   "metadata": {},
   "source": [
    "- SVG has a `circle` tag to create the circle shape. It works a lot like the `rect` elements you used for the bar chart."
   ]
  },
  {
   "cell_type": "markdown",
   "metadata": {},
   "source": [
    "- Example:\n",
    "    - Use the `data()`, `enter()`, and `append()` methods to bind `dataset` to new `circle` elements that are appended to the SVG canvas.\n",
    "\n",
    "    - Note: The circles won't be visible because we haven't set their attributes yet. We'll do that in the next challenge."
   ]
  },
  {
   "cell_type": "markdown",
   "metadata": {},
   "source": [
    "```html\n",
    "<body>\n",
    "  <script>\n",
    "    const dataset = [\n",
    "                  [ 34,    78 ],\n",
    "                  [ 109,   280 ],\n",
    "                  [ 310,   120 ],\n",
    "                  [ 79,    411 ],\n",
    "                  [ 420,   220 ],\n",
    "                  [ 233,   145 ],\n",
    "                  [ 333,   96 ],\n",
    "                  [ 222,   333 ],\n",
    "                  [ 78,    320 ],\n",
    "                  [ 21,    123 ]\n",
    "                ];\n",
    "\n",
    "\n",
    "    const w = 500;\n",
    "    const h = 500;\n",
    "\n",
    "    const svg = d3.select(\"body\")\n",
    "                  .append(\"svg\")\n",
    "                  .attr(\"width\", w)\n",
    "                  .attr(\"height\", h);\n",
    "\n",
    "    svg.selectAll(\"circle\")\n",
    "       .data(dataset)\n",
    "       .enter()\n",
    "       .append(\"circle\")\n",
    "  </script>\n",
    "</body>\n",
    "\n",
    "```"
   ]
  },
  {
   "cell_type": "markdown",
   "metadata": {},
   "source": [
    "<hr>\n",
    "<hr>"
   ]
  },
  {
   "cell_type": "markdown",
   "metadata": {},
   "source": [
    "### _Add Attributes to the Circle Elements_"
   ]
  },
  {
   "cell_type": "markdown",
   "metadata": {},
   "source": [
    "- A `circle` in SVG has three main attributes. The `cx` and `cy` attributes are the coordinates. They tell D3 where to position the center of the shape on the SVG canvas. The radius (`r` attribute) gives the size of the `circle`."
   ]
  },
  {
   "cell_type": "markdown",
   "metadata": {},
   "source": [
    "- Just like the `rect` `y` coordinate, the `cy` attribute for a `circle` is measured from the top of the SVG canvas, not from the bottom."
   ]
  },
  {
   "cell_type": "markdown",
   "metadata": {},
   "source": [
    "- All three attributes can use a callback function to set their values dynamically. Remember that all methods chained after `data(dataset)` run once per item in `dataset`. The `d` parameter in the callback function refers to the current item in `dataset`, which is an array for each point. You use bracket notation, like `d[0]`, to access the values in that array."
   ]
  },
  {
   "cell_type": "markdown",
   "metadata": {},
   "source": [
    "- Example: Add `cx`, `cy`, and `r` attributes to the `circle` elements. The `cx` value should be the first number in the array for each item in `dataset`. The `cy` value should be based off the second number in the array, but make sure to show the chart right-side-up and not inverted. The `r` value should be 5 for all circles."
   ]
  },
  {
   "cell_type": "markdown",
   "metadata": {},
   "source": [
    "```html\n",
    "<body>\n",
    "  <script>\n",
    "    const dataset = [\n",
    "                  [ 34,    78 ],\n",
    "                  [ 109,   280 ],\n",
    "                  [ 310,   120 ],\n",
    "                  [ 79,    411 ],\n",
    "                  [ 420,   220 ],\n",
    "                  [ 233,   145 ],\n",
    "                  [ 333,   96 ],\n",
    "                  [ 222,   333 ],\n",
    "                  [ 78,    320 ],\n",
    "                  [ 21,    123 ]\n",
    "                ];\n",
    "\n",
    "\n",
    "    const w = 500;\n",
    "    const h = 500;\n",
    "\n",
    "    const svg = d3.select(\"body\")\n",
    "                  .append(\"svg\")\n",
    "                  .attr(\"width\", w)\n",
    "                  .attr(\"height\", h);\n",
    "\n",
    "    svg.selectAll(\"circle\")\n",
    "       .data(dataset)\n",
    "       .enter()\n",
    "       .append(\"circle\")\n",
    "       .attr(\"cx\", (d, i ) => d[0])\n",
    "       .attr(\"cy\", (d, i) => h - d[1])\n",
    "       .attr(\"r\",\"5\")\n",
    "  </script>\n",
    "</body>\n",
    "\n",
    "```"
   ]
  },
  {
   "cell_type": "markdown",
   "metadata": {},
   "source": [
    "![](./images/Add-Attributes_to_the_Circle_Elements.png)"
   ]
  },
  {
   "cell_type": "markdown",
   "metadata": {},
   "source": [
    "<hr>\n",
    "<hr>"
   ]
  },
  {
   "cell_type": "markdown",
   "metadata": {},
   "source": [
    "### _Add Labels to Scatter Plot Circles_"
   ]
  },
  {
   "cell_type": "markdown",
   "metadata": {},
   "source": [
    "- Example: Label each point on the scatter plot using the `text` elements. The text of the label should be the two values separated by a comma and a space. For example, the label for the first point is \"34, 78\". Set the `x` attribute so it's 5 units more than the value you used for the `cx` attribute on the `circle`. Set the `y` attribute the same way that's used for the `cy` value on the `circle`."
   ]
  },
  {
   "cell_type": "markdown",
   "metadata": {},
   "source": [
    "```html\n",
    "<body>\n",
    "  <script>\n",
    "    const dataset = [\n",
    "                  [ 34,    78 ],\n",
    "                  [ 109,   280 ],\n",
    "                  [ 310,   120 ],\n",
    "                  [ 79,    411 ],\n",
    "                  [ 420,   220 ],\n",
    "                  [ 233,   145 ],\n",
    "                  [ 333,   96 ],\n",
    "                  [ 222,   333 ],\n",
    "                  [ 78,    320 ],\n",
    "                  [ 21,    123 ]\n",
    "                ];\n",
    "\n",
    "\n",
    "    const w = 500;\n",
    "    const h = 500;\n",
    "\n",
    "    const svg = d3.select(\"body\")\n",
    "                  .append(\"svg\")\n",
    "                  .attr(\"width\", w)\n",
    "                  .attr(\"height\", h);\n",
    "\n",
    "    svg.selectAll(\"circle\")\n",
    "       .data(dataset)\n",
    "       .enter()\n",
    "       .append(\"circle\")\n",
    "       .attr(\"cx\", (d, i) => d[0])\n",
    "       .attr(\"cy\", (d, i) => h - d[1])\n",
    "       .attr(\"r\", 5);\n",
    "\n",
    "    svg.selectAll(\"text\")\n",
    "       .data(dataset)\n",
    "       .enter()\n",
    "       .append(\"text\")\n",
    "       .attr(\"x\", d => d[0] + 5)\n",
    "       .attr(\"y\", d => h- d[1])\n",
    "       .text(d => `${d[0]}, ${d[1]}`)\n",
    "  </script>\n",
    "</body>\n",
    "\n",
    "```"
   ]
  },
  {
   "cell_type": "markdown",
   "metadata": {},
   "source": [
    "![](./images/add_labels_to_scatter_plot_circles.png)"
   ]
  },
  {
   "cell_type": "markdown",
   "metadata": {},
   "source": [
    "<hr>\n",
    "<hr>"
   ]
  },
  {
   "cell_type": "markdown",
   "metadata": {},
   "source": [
    "### _Create a Linear Scale with D3_"
   ]
  },
  {
   "cell_type": "markdown",
   "metadata": {},
   "source": [
    "- The bar and scatter plot charts both plotted data directly onto the SVG canvas. However, if the height of a bar or one of the data points were larger than the SVG height or width values, it would go outside the SVG area."
   ]
  },
  {
   "cell_type": "markdown",
   "metadata": {},
   "source": [
    "- In D3, there are scales to help plot data. `Scales` are functions that tell the program how to map a set of raw data points onto the pixels of the SVG canvas."
   ]
  },
  {
   "cell_type": "markdown",
   "metadata": {},
   "source": [
    "- For example, say you have a 100x500-sized SVG canvas and you want to plot Gross Domestic Product (GDP) for a number of countries. The set of numbers would be in the billion or trillion-dollar range. You provide D3 a type of scale to tell it how to place the large GDP values into that 100x500-sized area."
   ]
  },
  {
   "cell_type": "markdown",
   "metadata": {},
   "source": [
    "- It's unlikely you would plot raw data as-is. Before plotting it, you set the scale for your entire data set, so that the `x` and `y` values fit your canvas width and height."
   ]
  },
  {
   "cell_type": "markdown",
   "metadata": {},
   "source": [
    "- D3 has several scale types. For a linear scale (usually used with quantitative data), there is the D3 method `scaleLinear()`:\n",
    "\n",
    "```js\n",
    "const scale = d3.scaleLinear()\n",
    "```"
   ]
  },
  {
   "cell_type": "markdown",
   "metadata": {},
   "source": [
    "- By default, a scale uses the identity relationship. The value of the input is the same as the value of the output. A separate challenge covers how to change this."
   ]
  },
  {
   "cell_type": "markdown",
   "metadata": {},
   "source": [
    "```html\n",
    "<body>\n",
    "  <script>\n",
    "    const scale = d3.scaleLinear(); // Create the scale here\n",
    "    const output = scale(50); // Call the scale with an argument here\n",
    "      \n",
    "    d3.select(\"body\")\n",
    "      .append(\"h2\")\n",
    "      .text(output);\n",
    "\n",
    "  </script>\n",
    "</body>\n",
    "\n",
    "```"
   ]
  },
  {
   "cell_type": "markdown",
   "metadata": {},
   "source": [
    "<hr>\n",
    "<hr>"
   ]
  },
  {
   "cell_type": "markdown",
   "metadata": {},
   "source": [
    "### _Set a Domain and a Range on a Scale_"
   ]
  },
  {
   "cell_type": "markdown",
   "metadata": {},
   "source": [
    "- By default, scales use the identity relationship - the input value maps to the output value. But scales can be much more flexible and interesting."
   ]
  },
  {
   "cell_type": "markdown",
   "metadata": {},
   "source": [
    "- Say a data set has values ranging from 50 to 480. This is the input information for a scale, and is also known as the domain."
   ]
  },
  {
   "cell_type": "markdown",
   "metadata": {},
   "source": [
    "- You want to map those points along the `x` axis on the SVG canvas, between 10 units and 500 units. This is the output information, which is also known as the range."
   ]
  },
  {
   "cell_type": "markdown",
   "metadata": {},
   "source": [
    "- The `domain()` and `range()` methods set these values for the scale. Both methods take an array of at least two elements as an argument. Here's an example:"
   ]
  },
  {
   "cell_type": "markdown",
   "metadata": {},
   "source": [
    "```js\n",
    "// Set a domain\n",
    "// The domain covers the set of input values\n",
    "scale.domain([50, 480]);\n",
    "// Set a range\n",
    "// The range covers the set of output values\n",
    "scale.range([10, 500]);\n",
    "scale(50) // Returns 10\n",
    "scale(480) // Returns 500\n",
    "scale(325) // Returns 323.37\n",
    "scale(750) // Returns 807.67\n",
    "d3.scaleLinear()\n",
    "```"
   ]
  },
  {
   "cell_type": "markdown",
   "metadata": {},
   "source": [
    "- Notice that the scale uses the linear relationship between the domain and range values to figure out what the output should be for a given number. The minimum value in the domain (50) maps to the minimum value (10) in the range."
   ]
  },
  {
   "cell_type": "markdown",
   "metadata": {},
   "source": [
    "- Example: \n",
    "    - Create a scale and set its domain to `[250, 500]` and range to `[10, 150]`.\n",
    "    - Note: You can chain the `domain()` and `range()` methods onto the scale variable."
   ]
  },
  {
   "cell_type": "markdown",
   "metadata": {},
   "source": [
    "```html\n",
    "<body>\n",
    "  <script>\n",
    "    const scale = d3.scaleLinear();\n",
    "    scale\n",
    "    .domain([250, 500])\n",
    "    .range([10,150]);\n",
    "      \n",
    "    const output = scale(50);\n",
    "    d3.select(\"body\")\n",
    "      .append(\"h2\")\n",
    "      .text(output);\n",
    "  </script>\n",
    "</body>\n",
    "\n",
    "```"
   ]
  },
  {
   "cell_type": "markdown",
   "metadata": {},
   "source": [
    "<hr>\n",
    "<hr>"
   ]
  },
  {
   "cell_type": "markdown",
   "metadata": {},
   "source": [
    "### _Use the d3.max and d3.min Functions to Find Minimum and Maximum Values in a Dataset_"
   ]
  },
  {
   "cell_type": "markdown",
   "metadata": {},
   "source": [
    "- The D3 methods `domain()` and `range()` set that information for your scale based on the data. There are a couple methods to make that easier."
   ]
  },
  {
   "cell_type": "markdown",
   "metadata": {},
   "source": [
    "- Often when you set the domain, you'll want to use the minimum and maximum values within the data set. Trying to find these values manually, especially in a large data set, may cause errors."
   ]
  },
  {
   "cell_type": "markdown",
   "metadata": {},
   "source": [
    "- D3 has two methods - `min()` and `max()` to return this information. Here's an example:"
   ]
  },
  {
   "cell_type": "markdown",
   "metadata": {},
   "source": [
    "```js\n",
    "const exampleData = [34, 234, 73, 90, 6, 52];\n",
    "d3.min(exampleData) // Returns 6\n",
    "d3.max(exampleData) // Returns 234\n",
    "```"
   ]
  },
  {
   "cell_type": "markdown",
   "metadata": {},
   "source": [
    "- A dataset may have nested arrays, like the [x, y] coordinate pairs that were in the scatter plot example. In that case, you need to tell D3 how to calculate the maximum and minimum. Fortunately, both the `min()` and `max()` methods take a callback function. In this example, the callback function's argument `d` is for the current inner array. The callback needs to return the element from the inner array (the x or y value) over which you want to compute the maximum or minimum. Here's an example for how to find the min and max values with an array of arrays:"
   ]
  },
  {
   "cell_type": "markdown",
   "metadata": {},
   "source": [
    "```js\n",
    "const locationData = [[1, 7],[6, 3],[8, 3]];\n",
    "// Returns the smallest number out of the first elements\n",
    "const minX = d3.min(locationData, (d) => d[0]);\n",
    "// minX compared 1, 6, and 8 and is set to 1\n",
    "```"
   ]
  },
  {
   "cell_type": "markdown",
   "metadata": {},
   "source": [
    "- Example: The `positionData` array holds sub arrays of x, y, and z coordinates. Use a D3 method to find the maximum value of the z coordinate (the third value) from the arrays and save it in the `output` variable."
   ]
  },
  {
   "cell_type": "markdown",
   "metadata": {},
   "source": [
    "```js\n",
    "<body>\n",
    "  <script>\n",
    "    const positionData = [[1, 7, -4],[6, 3, 8],[2, 9, 3]]\n",
    "    const output = d3.max(positionData, (d) => d[2]); \n",
    "\n",
    "    d3.select(\"body\")\n",
    "      .append(\"h2\")\n",
    "      .text(output)\n",
    "  </script>\n",
    "</body>\n",
    "\n",
    "```"
   ]
  },
  {
   "cell_type": "markdown",
   "metadata": {},
   "source": [
    "<hr>\n",
    "<hr>"
   ]
  },
  {
   "cell_type": "markdown",
   "metadata": {},
   "source": [
    "### _Use Dynamic Scales_"
   ]
  },
  {
   "cell_type": "markdown",
   "metadata": {},
   "source": [
    "- The D3 `min()` and `max()` methods are useful to help set the scale."
   ]
  },
  {
   "cell_type": "markdown",
   "metadata": {},
   "source": [
    "- Given a complex data set, one priority is to set the scale so the visualization fits the SVG container's width and height. You want all the data plotted inside the SVG canvas so it's visible on the web page."
   ]
  },
  {
   "cell_type": "markdown",
   "metadata": {},
   "source": [
    "- The example below sets the x-axis scale for scatter plot data. The `domain()` method passes information to the scale about the raw data values for the plot. The `range()` method gives it information about the actual space on the web page for the visualization."
   ]
  },
  {
   "cell_type": "markdown",
   "metadata": {},
   "source": [
    "- In the example, the domain goes from 0 to the maximum in the set. It uses the `max()` method with a callback function based on the x values in the arrays. The range uses the SVG canvas' width (`w`), but it includes some padding, too. This puts space between the scatter plot dots and the edge of the SVG canvas."
   ]
  },
  {
   "cell_type": "markdown",
   "metadata": {},
   "source": [
    "```js\n",
    "const dataset = [\n",
    "  [ 34,    78 ],\n",
    "  [ 109,   280 ],\n",
    "  [ 310,   120 ],\n",
    "  [ 79,    411 ],\n",
    "  [ 420,   220 ],\n",
    "  [ 233,   145 ],\n",
    "  [ 333,   96 ],\n",
    "  [ 222,   333 ],\n",
    "  [ 78,    320 ],\n",
    "  [ 21,    123 ]\n",
    "];\n",
    "const w = 500;\n",
    "const h = 500;\n",
    "\n",
    "// Padding between the SVG canvas boundary and the plot\n",
    "const padding = 30;\n",
    "const xScale = d3.scaleLinear()\n",
    "  .domain([0, d3.max(dataset, (d) => d[0])])\n",
    "  .range([padding, w - padding]);\n",
    "```"
   ]
  },
  {
   "cell_type": "markdown",
   "metadata": {},
   "source": [
    "- The padding may be confusing at first. Picture the x-axis as a horizontal line from 0 to 500 (the width value for the SVG canvas). Including the padding in the `range()` method forces the plot to start at 30 along that line (instead of 0), and end at 470 (instead of 500)."
   ]
  },
  {
   "cell_type": "markdown",
   "metadata": {},
   "source": [
    "- Example: \n",
    "    - Use the `yScale` variable to create a linear y-axis scale. The domain should start at zero and go to the maximum y value in the set. The range should use the SVG height (`h`) and include padding.\n",
    "    - Note: Remember to keep the plot right-side-up. When you set the range for the y coordinates, the higher value (height minus padding) is the first argument, and the lower value is the second argument."
   ]
  },
  {
   "cell_type": "markdown",
   "metadata": {},
   "source": [
    "```html\n",
    "<body>\n",
    "  <script>\n",
    "    const dataset = [\n",
    "                  [ 34,    78 ],\n",
    "                  [ 109,   280 ],\n",
    "                  [ 310,   120 ],\n",
    "                  [ 79,    411 ],\n",
    "                  [ 420,   220 ],\n",
    "                  [ 233,   145 ],\n",
    "                  [ 333,   96 ],\n",
    "                  [ 222,   333 ],\n",
    "                  [ 78,    320 ],\n",
    "                  [ 21,    123 ]\n",
    "                ];\n",
    "\n",
    "    const w = 500;\n",
    "    const h = 500;\n",
    "\n",
    "    // Padding between the SVG canvas boundary and the plot\n",
    "    const padding = 30;\n",
    "\n",
    "    // Create an x and y scale\n",
    "\n",
    "    const xScale = d3.scaleLinear()\n",
    "                    .domain([0, d3.max(dataset, (d) => d[0])])\n",
    "                    .range([padding, w - padding]);\n",
    "\n",
    "    const yScale = d3.scaleLinear()\n",
    "                     .domain([0,d3.max(dataset, (d) => d[1])])\n",
    "                     .range([h - padding, padding])\n",
    "\n",
    "    const output = yScale(411); // Returns 30\n",
    "    d3.select(\"body\")\n",
    "      .append(\"h2\")\n",
    "      .text(output)\n",
    "  </script>\n",
    "</body>\n",
    "```"
   ]
  },
  {
   "cell_type": "markdown",
   "metadata": {},
   "source": [
    "<hr>\n",
    "<hr>"
   ]
  },
  {
   "cell_type": "markdown",
   "metadata": {},
   "source": [
    "### _Use a Pre-Defined Scale to Place Elements_"
   ]
  },
  {
   "cell_type": "markdown",
   "metadata": {},
   "source": [
    "- With the scales set up, it's time to map the scatter plot again. The scales are like processing functions that turn the x and y raw data into values that fit and render correctly on the SVG canvas. They keep the data within the screen's plotting area."
   ]
  },
  {
   "cell_type": "markdown",
   "metadata": {},
   "source": [
    "- You set the coordinate attribute values for an SVG shape with the scaling function. This includes `x` and y attributes for `rect` or `text` elements, or `cx` and `cy` for `circles`. Here's an example:"
   ]
  },
  {
   "cell_type": "markdown",
   "metadata": {},
   "source": [
    "```js\n",
    "shape\n",
    "  .attr(\"x\", (d) => xScale(d[0]))\n",
    "```"
   ]
  },
  {
   "cell_type": "markdown",
   "metadata": {},
   "source": [
    "- Scales set shape coordinate attributes to place the data points onto the SVG canvas. You don't need to apply scales when you display the actual data value, for example, in the `text()` method for a tooltip or label."
   ]
  },
  {
   "cell_type": "markdown",
   "metadata": {},
   "source": [
    "- Example: \n",
    "    - Use `xScale` and `yScale` to position both the `circle` and `text` shapes onto the SVG canvas. For the `circles`, apply the scales to set the `cx` and `cy` attributes. Give them a radius of 5 units, too.\n",
    "\n",
    "    - For the `text` elements, apply the scales to set the `x` and `y` attributes. The labels should be offset to the right of the dots. To do this, add 10 units to the x data value before passing it to the `xScale`."
   ]
  },
  {
   "cell_type": "markdown",
   "metadata": {},
   "source": [
    "```html\n",
    "<body>\n",
    "  <script>\n",
    "    const dataset = [\n",
    "                  [ 34,     78 ],\n",
    "                  [ 109,   280 ],\n",
    "                  [ 310,   120 ],\n",
    "                  [ 79,   411 ],\n",
    "                  [ 420,   220 ],\n",
    "                  [ 233,   145 ],\n",
    "                  [ 333,   96 ],\n",
    "                  [ 222,    333 ],\n",
    "                  [ 78,    320 ],\n",
    "                  [ 21,   123 ]\n",
    "                ];\n",
    "\n",
    "    const w = 500;\n",
    "    const h = 500;\n",
    "    const padding = 60;\n",
    "\n",
    "    const xScale = d3.scaleLinear()\n",
    "                     .domain([0, d3.max(dataset, (d) => d[0])])\n",
    "                     .range([padding, w - padding]);\n",
    "\n",
    "    const yScale = d3.scaleLinear()\n",
    "                     .domain([0, d3.max(dataset, (d) => d[1])])\n",
    "                     .range([h - padding, padding]);\n",
    "\n",
    "    const svg = d3.select(\"body\")\n",
    "                  .append(\"svg\")\n",
    "                  .attr(\"width\", w)\n",
    "                  .attr(\"height\", h);\n",
    "\n",
    "    svg.selectAll(\"circle\")\n",
    "       .data(dataset)\n",
    "       .enter()\n",
    "       .append(\"circle\")\n",
    "       .attr(\"cx\", (d) => xScale(d[0]))\n",
    "       .attr(\"cy\", (d) => yScale(d[1]))\n",
    "       .attr(\"r\",5);\n",
    "\n",
    "    svg.selectAll(\"text\")\n",
    "       .data(dataset)\n",
    "       .enter()\n",
    "       .append(\"text\")\n",
    "       .text((d) =>  (d[0] + \", \" + d[1]))\n",
    "       .attr(\"x\", (d) => xScale(d[0]+10))\n",
    "       .attr(\"y\", (d) => yScale(d[1]))\n",
    "\n",
    "  </script>\n",
    "</body>\n",
    "```"
   ]
  },
  {
   "cell_type": "markdown",
   "metadata": {},
   "source": [
    "![](./images/pre-defined_scale_to_place_elements.png)"
   ]
  },
  {
   "cell_type": "markdown",
   "metadata": {},
   "source": [
    "<hr>\n",
    "<hr>"
   ]
  },
  {
   "cell_type": "markdown",
   "metadata": {},
   "source": [
    "### _Add Axes to a Visualization_"
   ]
  },
  {
   "cell_type": "markdown",
   "metadata": {},
   "source": [
    "- D3 has two methods `axisLeft(`) and `axisBottom()` to render the y and x axes, respectively. (Axes is the plural form of axis). Here's an example to create the x-axis based on the `xScale` in the previous challenges:"
   ]
  },
  {
   "cell_type": "markdown",
   "metadata": {},
   "source": [
    "```js\n",
    "const xAxis = d3.axisBottom(xScale);\n",
    "```"
   ]
  },
  {
   "cell_type": "markdown",
   "metadata": {},
   "source": [
    "- The next step is to render the axis on the SVG canvas. To do so, you can use a general SVG component, the ``g`` element. The ``g`` stands for group."
   ]
  },
  {
   "cell_type": "markdown",
   "metadata": {},
   "source": [
    "- Unlike `rect`, `circle`, and `text`, an axis is just a straight line when it's rendered. Because it is a simple shape, using `g` works."
   ]
  },
  {
   "cell_type": "markdown",
   "metadata": {},
   "source": [
    "- The last step is to apply a `transform` attribute to position the axis on the SVG canvas in the right place. Otherwise, the line would render along the border of SVG canvas and wouldn't be visible."
   ]
  },
  {
   "cell_type": "markdown",
   "metadata": {},
   "source": [
    "- SVG supports different types of `transforms`, but positioning an axis needs `translate`. When it's applied to the `g` element, it moves the whole group over and down by the given amounts. Here's an example:"
   ]
  },
  {
   "cell_type": "markdown",
   "metadata": {},
   "source": [
    "```js\n",
    "const xAxis = d3.axisBottom(xScale);\n",
    "\n",
    "svg.append(\"g\")\n",
    "   .attr(\"transform\", \"translate(0, \" + (h - padding) + \")\")\n",
    "   .call(xAxis);\n",
    "```"
   ]
  },
  {
   "cell_type": "markdown",
   "metadata": {},
   "source": [
    "- The above code places the x-axis at the bottom of the SVG canvas. Then it's passed as an argument to the `call()` method. The y-axis works in the same way, except the `translate` argument is in the form (x, 0). Because `translate` is a string in the `attr()` method above, you can use concatenation to include variable values for its arguments."
   ]
  },
  {
   "cell_type": "markdown",
   "metadata": {},
   "source": [
    "- Example: The scatter plot now has an x-axis. Create a `y-axis` in a variable named yAxis using the `axisLeft()` method. Then render the axis using a `g` element. Make sure to use a `transform` attribute to translate the axis by the amount of padding units right, and 0 units down. Remember to `call()` the axis."
   ]
  },
  {
   "cell_type": "markdown",
   "metadata": {},
   "source": [
    "```html\n",
    "<body>\n",
    "  <script>\n",
    "    const dataset = [\n",
    "                  [ 34,     78 ],\n",
    "                  [ 109,   280 ],\n",
    "                  [ 310,   120 ],\n",
    "                  [ 79,   411 ],\n",
    "                  [ 420,   220 ],\n",
    "                  [ 233,   145 ],\n",
    "                  [ 333,   96 ],\n",
    "                  [ 222,    333 ],\n",
    "                  [ 78,    320 ],\n",
    "                  [ 21,   123 ]\n",
    "                ];\n",
    "\n",
    "    const w = 500;\n",
    "    const h = 500;\n",
    "    const padding = 60;\n",
    "\n",
    "    const xScale = d3.scaleLinear()\n",
    "                     .domain([0, d3.max(dataset, (d) => d[0])])\n",
    "                     .range([padding, w - padding]);\n",
    "\n",
    "    const yScale = d3.scaleLinear()\n",
    "                     .domain([0, d3.max(dataset, (d) => d[1])])\n",
    "                     .range([h - padding, padding]);\n",
    "\n",
    "    const svg = d3.select(\"body\")\n",
    "                  .append(\"svg\")\n",
    "                  .attr(\"width\", w)\n",
    "                  .attr(\"height\", h);\n",
    "\n",
    "    svg.selectAll(\"circle\")\n",
    "       .data(dataset)\n",
    "       .enter()\n",
    "       .append(\"circle\")\n",
    "       .attr(\"cx\", (d) => xScale(d[0]))\n",
    "       .attr(\"cy\",(d) => yScale(d[1]))\n",
    "       .attr(\"r\", (d) => 5);\n",
    "\n",
    "    svg.selectAll(\"text\")\n",
    "       .data(dataset)\n",
    "       .enter()\n",
    "       .append(\"text\")\n",
    "       .text((d) =>  (d[0] + \",\" + d[1]))\n",
    "       .attr(\"x\", (d) => xScale(d[0] + 10))\n",
    "       .attr(\"y\", (d) => yScale(d[1]))\n",
    "\n",
    "    const xAxis = d3.axisBottom(xScale);\n",
    "    const yAxis = d3.axisLeft(yScale);\n",
    "\n",
    "    svg.append(\"g\")\n",
    "       .attr(\"transform\", \"translate(0,\" + (h - padding) + \")\")\n",
    "       .call(xAxis);\n",
    "\n",
    "    svg.append(\"g\")\n",
    "       .attr(\"transform\", \"translate(\" + padding +\", 0)\")\n",
    "       .call(yAxis)\n",
    "\n",
    "  </script>\n",
    "</body>\n",
    "\n",
    "```"
   ]
  },
  {
   "cell_type": "markdown",
   "metadata": {},
   "source": [
    "![](./images/Add_Axes_to_a_Visualization.png)"
   ]
  },
  {
   "cell_type": "code",
   "execution_count": null,
   "metadata": {},
   "outputs": [],
   "source": []
  }
 ],
 "metadata": {
  "kernelspec": {
   "display_name": "Python 3",
   "language": "python",
   "name": "python3"
  },
  "language_info": {
   "codemirror_mode": {
    "name": "ipython",
    "version": 3
   },
   "file_extension": ".py",
   "mimetype": "text/x-python",
   "name": "python",
   "nbconvert_exporter": "python",
   "pygments_lexer": "ipython3",
   "version": "3.7.4"
  }
 },
 "nbformat": 4,
 "nbformat_minor": 2
}
