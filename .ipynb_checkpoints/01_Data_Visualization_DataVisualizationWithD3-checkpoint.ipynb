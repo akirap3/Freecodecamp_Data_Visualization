{
 "cells": [
  {
   "cell_type": "markdown",
   "metadata": {},
   "source": [
    "### _Introduction to the Data Visualization with D3_"
   ]
  },
  {
   "cell_type": "markdown",
   "metadata": {},
   "source": [
    "- D3.js, or D3, stands for Data Driven Documents. D3 is a JavaScript library to create dynamic and interactive data visualizations in the browser. It's built to work with common web standards, namely HTML, CSS, and Scalable Vector Graphics (SVG)."
   ]
  },
  {
   "cell_type": "markdown",
   "metadata": {},
   "source": [
    "- D3 takes input data and maps it into a visual representation of that data. It supports many different data formats. D3 lets you bind (or attach) the data to the Document Object Model (DOM). You use HTML or SVG elements with D3's built-in methods to transform the data into a visualization."
   ]
  },
  {
   "cell_type": "markdown",
   "metadata": {},
   "source": [
    "---\n",
    "---"
   ]
  },
  {
   "cell_type": "markdown",
   "metadata": {},
   "source": [
    "### _Add Document Elements with D3_"
   ]
  },
  {
   "cell_type": "markdown",
   "metadata": {},
   "source": [
    "- D3 has several methods that let you add and change elements in your document."
   ]
  },
  {
   "cell_type": "markdown",
   "metadata": {},
   "source": [
    "- The `select()` method selects one element from the document. It takes an argument for the name of the element you want and returns an HTML node for the first element in the document that matches the name. Here's an example:   `const anchor = d3.select(\"a\");`"
   ]
  },
  {
   "cell_type": "markdown",
   "metadata": {},
   "source": [
    "- The above example finds the first anchor tag on the page and saves an HTML node for it in the variable `anchor`. You can use the selection with other methods. The \"d3\" part of the example is a reference to the D3 object, which is how you access D3 methods."
   ]
  },
  {
   "cell_type": "markdown",
   "metadata": {},
   "source": [
    "- Two other useful methods are `append()` and `text()`.\n",
    "    - The `append()` method takes an argument for the element you want to add to the document. It appends an HTML node to a selected item, and returns a handle to that node.\n",
    "    - The `text()` method either sets the text of the selected node, or gets the current text. To set the value, you pass a string as an argument inside the parentheses of the method."
   ]
  },
  {
   "cell_type": "markdown",
   "metadata": {},
   "source": [
    "- D3 allows you to chain several methods together with periods to perform a number of actions in a row."
   ]
  },
  {
   "cell_type": "markdown",
   "metadata": {},
   "source": [
    "- Example: Use the `select` method to select the `body` tag in the document. Then `append` an `h1` tag to it, and add the text \"Learning D3\" into the `h1` element."
   ]
  },
  {
   "cell_type": "markdown",
   "metadata": {},
   "source": [
    "```html\n",
    "<body>\n",
    "  <script>\n",
    "    d3.select(\"body\")\n",
    "      .append(\"h1\")\n",
    "      .text(\"Learning D3\")\n",
    "  </script>\n",
    "</body>\n",
    "\n",
    "```"
   ]
  },
  {
   "cell_type": "markdown",
   "metadata": {},
   "source": [
    "<hr>\n",
    "<hr>"
   ]
  },
  {
   "cell_type": "markdown",
   "metadata": {},
   "source": [
    "### _Select a Group of Elements with D3_"
   ]
  },
  {
   "cell_type": "markdown",
   "metadata": {},
   "source": [
    "- D3 also has the `selectAll()` method to select a group of elements. It returns an array of HTML nodes for all the items in the document that match the input string. Here's an example to select all the anchor tags in a document:"
   ]
  },
  {
   "cell_type": "markdown",
   "metadata": {},
   "source": [
    "```js\n",
    "const anchors = d3.selectAll(\"a\");\n",
    "```"
   ]
  },
  {
   "cell_type": "markdown",
   "metadata": {},
   "source": [
    "- Like the `select()` method, `selectAll()` supports method chaining, and you can use it with other methods."
   ]
  },
  {
   "cell_type": "markdown",
   "metadata": {},
   "source": [
    "- Example: Select all of the `li` tags in the document, and change their text to \"list item\" by chaining the `.text()` method."
   ]
  },
  {
   "cell_type": "markdown",
   "metadata": {},
   "source": [
    "```html\n",
    "<body>\n",
    "  <ul>\n",
    "    <li>Example</li>\n",
    "    <li>Example</li>\n",
    "    <li>Example</li>\n",
    "  </ul>\n",
    "  <script>\n",
    "    d3.selectAll(\"li\")\n",
    "      .text(\"list item\")\n",
    "  </script>\n",
    "</body>\n",
    "\n",
    "```"
   ]
  },
  {
   "cell_type": "markdown",
   "metadata": {},
   "source": [
    "<hr>\n",
    "<hr>"
   ]
  },
  {
   "cell_type": "markdown",
   "metadata": {},
   "source": [
    "### _Work with Data in D3_"
   ]
  },
  {
   "cell_type": "markdown",
   "metadata": {},
   "source": [
    "- The D3 library focuses on a data-driven approach. When you have a set of data, you can apply D3 methods to display it on the page. Data comes in many formats, but this challenge uses a simple array of numbers."
   ]
  },
  {
   "cell_type": "markdown",
   "metadata": {},
   "source": [
    "- The first step is to make D3 aware of the data. The `data()` method is used on a selection of DOM elements to attach the data to those elements. The data set is passed as an argument to the method."
   ]
  },
  {
   "cell_type": "markdown",
   "metadata": {},
   "source": [
    "- A common workflow pattern is to create a new element in the document for each piece of data in the set. D3 has the `enter()` method for this purpose."
   ]
  },
  {
   "cell_type": "markdown",
   "metadata": {},
   "source": [
    "- When `enter()` is combined with the `data()` method, it looks at the selected elements from the page and compares them to the number of data items in the set. If there are fewer elements than data items, it creates the missing elements."
   ]
  },
  {
   "cell_type": "markdown",
   "metadata": {},
   "source": [
    "- Example: Select the `body` node, then select all `h2` elements. Have D3 create and append an `h2` tag for each item in the `dataset` array. The text in the h2 should say \"New Title\". Your code should use the `data()` and `enter()` methods."
   ]
  },
  {
   "cell_type": "markdown",
   "metadata": {},
   "source": [
    "```html\n",
    "<body>\n",
    "  <script>\n",
    "    const dataset = [12, 31, 22, 17, 25, 18, 29, 14, 9];\n",
    "    d3.select(\"body\")\n",
    "      .selectAll(\"h2\")\n",
    "      .data(dataset)\n",
    "      .enter()\n",
    "      .append(\"h2\")\n",
    "      .text(\"New Title\")\n",
    "  </script>\n",
    "</body>\n",
    "\n",
    "```"
   ]
  },
  {
   "cell_type": "markdown",
   "metadata": {},
   "source": [
    "<hr>\n",
    "<hr>"
   ]
  },
  {
   "cell_type": "markdown",
   "metadata": {},
   "source": [
    "### _Work with Dynamic Data in D3_"
   ]
  },
  {
   "cell_type": "markdown",
   "metadata": {},
   "source": [
    "- The D3 `text()` method can take a string or a callback function as an argument:\n",
    "```\n",
    "selection.text((d) => d)\n",
    "```"
   ]
  },
  {
   "cell_type": "markdown",
   "metadata": {},
   "source": [
    "- In the example above, the parameter `d` refers to a single entry in the dataset that a selection is bound to."
   ]
  },
  {
   "cell_type": "markdown",
   "metadata": {},
   "source": [
    "- Example: Change the `text()` method so that each `h2` element displays the corresponding value from the `dataset` array with a single space and \"USD\". For example, the first heading should be \"12 USD\"."
   ]
  },
  {
   "cell_type": "markdown",
   "metadata": {},
   "source": [
    "#### Soulution 1:"
   ]
  },
  {
   "cell_type": "markdown",
   "metadata": {},
   "source": [
    "```html\n",
    "<body>\n",
    "  <script>\n",
    "    const dataset = [12, 31, 22, 17, 25, 18, 29, 14, 9];\n",
    "\n",
    "    d3.select(\"body\").selectAll(\"h2\")\n",
    "      .data(dataset)\n",
    "      .enter()\n",
    "      .append(\"h2\")\n",
    "      .text(d => d + \" USD\");\n",
    "      \n",
    "  </script>\n",
    "</body>\n",
    "\n",
    "```"
   ]
  },
  {
   "cell_type": "markdown",
   "metadata": {},
   "source": [
    "#### Solution 2:"
   ]
  },
  {
   "cell_type": "markdown",
   "metadata": {},
   "source": [
    "```html\n",
    "<body>\n",
    "  <script>\n",
    "    const dataset = [12, 31, 22, 17, 25, 18, 29, 14, 9];\n",
    "    \n",
    "    d3.select(\"body\").selectAll(\"h2\")\n",
    "      .data(dataset)\n",
    "      .enter()\n",
    "      .append(\"h2\")\n",
    "      .text((d) => `${d} USD`);\n",
    "      \n",
    "  </script>\n",
    "</body> \n",
    "```"
   ]
  },
  {
   "cell_type": "markdown",
   "metadata": {},
   "source": [
    "<hr>\n",
    "<hr>"
   ]
  },
  {
   "cell_type": "markdown",
   "metadata": {},
   "source": [
    "### _Add Inline Styling to Elements_"
   ]
  },
  {
   "cell_type": "markdown",
   "metadata": {},
   "source": [
    "- D3 lets you add inline CSS styles on dynamic elements with the `style()` method."
   ]
  },
  {
   "cell_type": "markdown",
   "metadata": {},
   "source": [
    "- The `style()` method takes a comma-separated key-value pair as an argument. Here's an example to set the selection's text color to blue:\n",
    "```html\n",
    "selection.style(\"color\",\"blue\");\n",
    "```"
   ]
  },
  {
   "cell_type": "markdown",
   "metadata": {},
   "source": [
    "- Example: Add the `style()` method to the code in the editor to make all the displayed text have a `font-family` of `verdana`."
   ]
  },
  {
   "cell_type": "markdown",
   "metadata": {},
   "source": [
    "```html\n",
    "<body>\n",
    "  <script>\n",
    "    const dataset = [12, 31, 22, 17, 25, 18, 29, 14, 9];\n",
    "\n",
    "    d3.select(\"body\").selectAll(\"h2\")\n",
    "      .data(dataset)\n",
    "      .enter()\n",
    "      .append(\"h2\")\n",
    "      .text((d) => (d + \" USD\"))\n",
    "      .style(\"font-family\",\"verdana\")\n",
    "      \n",
    "  </script>\n",
    "</body>\n",
    "\n",
    "```"
   ]
  },
  {
   "cell_type": "markdown",
   "metadata": {},
   "source": [
    "<hr>\n",
    "<hr>"
   ]
  },
  {
   "cell_type": "markdown",
   "metadata": {},
   "source": [
    "### _Change Styles Based on Data_"
   ]
  },
  {
   "cell_type": "markdown",
   "metadata": {},
   "source": [
    "- D3 is about visualization and presentation of data. It's likely you'll want to change the styling of elements based on the data. You can use a callback function in the `style()` method to change the styling for different elements."
   ]
  },
  {
   "cell_type": "markdown",
   "metadata": {},
   "source": [
    "- eg.\n",
    "```html\n",
    "selection.style(\"color\", (d) => {\n",
    "  /* Logic that returns the color based on a condition */\n",
    "});\n",
    "```"
   ]
  },
  {
   "cell_type": "markdown",
   "metadata": {},
   "source": [
    "- The `style()` method is not limited to setting the `color` - it can be used with other CSS properties as well."
   ]
  },
  {
   "cell_type": "markdown",
   "metadata": {},
   "source": [
    "- Example: Add the `style()` method to the code in the editor to set the `color` of the `h2` elements conditionally. Write the callback function so if the data value is less than 20, it returns \"red\", otherwise it returns \"green\"."
   ]
  },
  {
   "cell_type": "markdown",
   "metadata": {},
   "source": [
    "```html\n",
    "<body>\n",
    "  <script>\n",
    "    const dataset = [12, 31, 22, 17, 25, 18, 29, 14, 9];\n",
    "\n",
    "    d3.select(\"body\").selectAll(\"h2\")\n",
    "      .data(dataset)\n",
    "      .enter()\n",
    "      .append(\"h2\")\n",
    "      .text((d) => (d + \" USD\"))\n",
    "      .style(\"color\", d => {\n",
    "        if (d < 20) {\n",
    "          return \"red\"\n",
    "        } else {\n",
    "          return \"green\"\n",
    "        }\n",
    "      })\n",
    "  </script>\n",
    "</body>\n",
    "```"
   ]
  },
  {
   "cell_type": "markdown",
   "metadata": {},
   "source": [
    "<hr>\n",
    "<hr>"
   ]
  },
  {
   "cell_type": "markdown",
   "metadata": {},
   "source": [
    "### _Add Classes with D3_"
   ]
  },
  {
   "cell_type": "markdown",
   "metadata": {},
   "source": [
    "- Using a lot of inline styles on HTML elements gets hard to manage, even for smaller apps. It's easier to add a class to elements and style that class one time using CSS rules. D3 has the `attr()` method to add any HTML attribute to an element, including a class name."
   ]
  },
  {
   "cell_type": "markdown",
   "metadata": {},
   "source": [
    "- The `attr()` method works the same way that `style()` does. It takes comma-separated values, and can use a callback function. Here's an example to add a class of \"container\" to a selection:\n",
    "\n",
    "```\n",
    "selection.attr(\"class\", \"container\");\n",
    "\n",
    "```"
   ]
  },
  {
   "cell_type": "markdown",
   "metadata": {},
   "source": [
    "- Example: Add the `attr()` method to the code in the editor and put a class of `bar` on the `div` elements."
   ]
  },
  {
   "cell_type": "markdown",
   "metadata": {},
   "source": [
    "```html\n",
    "<style>\n",
    "  .bar {\n",
    "    width: 25px;\n",
    "    height: 100px;\n",
    "    display: inline-block;\n",
    "    background-color: blue;\n",
    "  }\n",
    "</style>\n",
    "<body>\n",
    "  <script>\n",
    "    const dataset = [12, 31, 22, 17, 25, 18, 29, 14, 9];\n",
    "\n",
    "    d3.select(\"body\").selectAll(\"div\")\n",
    "      .data(dataset)\n",
    "      .enter()\n",
    "      .append(\"div\")\n",
    "      .attr(\"class\",\"bar\")\n",
    "    \n",
    "  </script>\n",
    "</body>\n",
    "\n",
    "```"
   ]
  },
  {
   "cell_type": "markdown",
   "metadata": {},
   "source": [
    "<hr>\n",
    "<hr>"
   ]
  },
  {
   "cell_type": "markdown",
   "metadata": {},
   "source": [
    "### _Update the Height of an Element Dynamically_"
   ]
  },
  {
   "cell_type": "markdown",
   "metadata": {},
   "source": [
    "- Recall the format to set a style using a callback function:\n",
    "    \n",
    "```html\n",
    "selection.style(\"cssProperty\", (d) => d)\n",
    "```"
   ]
  },
  {
   "cell_type": "markdown",
   "metadata": {},
   "source": [
    "- Exaple: Add the `style()` method to the code in the editor to set the `height` property for each element. Use a callback function to return the value of the data point with the string \"px\" added to it."
   ]
  },
  {
   "cell_type": "markdown",
   "metadata": {},
   "source": [
    "```html\n",
    "<style>\n",
    "  .bar {\n",
    "    width: 25px;\n",
    "    height: 100px;\n",
    "    display: inline-block;\n",
    "    background-color: blue;\n",
    "  }\n",
    "</style>\n",
    "<body>\n",
    "  <script>\n",
    "    const dataset = [12, 31, 22, 17, 25, 18, 29, 14, 9];\n",
    "\n",
    "    d3.select(\"body\").selectAll(\"div\")\n",
    "      .data(dataset)\n",
    "      .enter()\n",
    "      .append(\"div\")\n",
    "      .attr(\"class\", \"bar\")\n",
    "      .style(\"height\", d => d + 'px')\n",
    "      // or style(\"height\", d => `${d}px`)\n",
    "  </script>\n",
    "</body>\n",
    "\n",
    "```"
   ]
  },
  {
   "cell_type": "markdown",
   "metadata": {},
   "source": [
    "<hr>\n",
    "<hr>"
   ]
  },
  {
   "cell_type": "markdown",
   "metadata": {},
   "source": [
    "### _Change the Presentation of a Bar Chart_"
   ]
  },
  {
   "cell_type": "markdown",
   "metadata": {},
   "source": [
    "- The last challenge created a bar chart, but there are a couple of formatting changes that could improve it:"
   ]
  },
  {
   "cell_type": "markdown",
   "metadata": {},
   "source": [
    "- 1) Add space between each bar to visually separate them, which is done by adding a margin to the CSS for the `bar` class"
   ]
  },
  {
   "cell_type": "markdown",
   "metadata": {},
   "source": [
    "- 2) Increase the height of the bars to better show the difference in values, which is done by multiplying the value by a number to scale the height"
   ]
  },
  {
   "cell_type": "markdown",
   "metadata": {},
   "source": [
    "- Example: \n",
    "    - First, add a `margin` of 2px to the `bar` class in the `style` tag. Next, change the callback function in the `style()` method so it returns a value 10 times the original data value (plus the \"px\").\n",
    "    - Note: Multiplying each data point by the same constant only alters the scale. It's like zooming in, and it doesn't change the meaning of the underlying data."
   ]
  },
  {
   "cell_type": "markdown",
   "metadata": {},
   "source": [
    "<style>\n",
    "  .bar {\n",
    "    width: 25px;\n",
    "    height: 100px;\n",
    "    margin: 2px;\n",
    "    display: inline-block;\n",
    "    background-color: blue;\n",
    "  }\n",
    "</style>\n",
    "<body>\n",
    "  <script>\n",
    "    const dataset = [12, 31, 22, 17, 25, 18, 29, 14, 9];\n",
    "\n",
    "    d3.select(\"body\").selectAll(\"div\")\n",
    "      .data(dataset)\n",
    "      .enter()\n",
    "      .append(\"div\")\n",
    "      .attr(\"class\", \"bar\")\n",
    "      .style(\"height\", (d) => (d*10 + \"px\"))\n",
    "      \n",
    "  </script>\n",
    "</body>"
   ]
  },
  {
   "cell_type": "markdown",
   "metadata": {},
   "source": [
    "![](./images/bar_chart.png)"
   ]
  },
  {
   "cell_type": "markdown",
   "metadata": {},
   "source": [
    "<hr>\n",
    "<hr>"
   ]
  },
  {
   "cell_type": "markdown",
   "metadata": {},
   "source": [
    "### _Learn About SVG in D3_"
   ]
  },
  {
   "cell_type": "markdown",
   "metadata": {},
   "source": [
    "- SVG stands for Scalable Vector Graphics."
   ]
  },
  {
   "cell_type": "markdown",
   "metadata": {},
   "source": [
    "- Here \"scalable\" means that, if you zoom in or out on an object, it would not appear pixelated. It scales with the display system, whether it's on a small mobile screen or a large TV monitor."
   ]
  },
  {
   "cell_type": "markdown",
   "metadata": {},
   "source": [
    "- SVG is used to make common geometric shapes. Since D3 maps data into a visual representation, it uses SVG to create the shapes for the visualization. SVG shapes for a web page must go within an HTML `svg` tag."
   ]
  },
  {
   "cell_type": "markdown",
   "metadata": {},
   "source": [
    "- CSS can be scalable when styles use relative units (such as `vh`, `vw`, or percentages), but using SVG is more flexible to build data visualizations."
   ]
  },
  {
   "cell_type": "markdown",
   "metadata": {},
   "source": [
    "- Example:\n",
    "    - Add an `svg` node to the `body` using `append()`. Give it a `width` attribute set to the provided `w` constant and a `height` attribute set to the provided `h` constant using the `attr()` or `style()` methods for each. You'll see it in the output because there's a `background-color` of pink applied to it in the `style` tag.\n",
    "    - Note: When using `attr()` width and height attributes do not have units. This is the building block of scaling - the element will always have a 5:1 width to height ratio, no matter what the zoom level is."
   ]
  },
  {
   "cell_type": "markdown",
   "metadata": {},
   "source": [
    "```html\n",
    "<style>\n",
    "  svg {\n",
    "    background-color: pink;\n",
    "  }\n",
    "</style>\n",
    "<body>\n",
    "  <script>\n",
    "    const dataset = [12, 31, 22, 17, 25, 18, 29, 14, 9];\n",
    "    const w = 500;\n",
    "    const h = 100;\n",
    "    const svg = d3.select(\"body\")\n",
    "                  .append(\"svg\")\n",
    "                  .attr(\"width\",w)\n",
    "                  .attr(\"height\",h)\n",
    "  </script>\n",
    "</body>\n",
    "```"
   ]
  },
  {
   "cell_type": "markdown",
   "metadata": {},
   "source": [
    "<hr>\n",
    "<hr>"
   ]
  },
  {
   "cell_type": "markdown",
   "metadata": {},
   "source": [
    "### _Display Shapes with SVG_"
   ]
  },
  {
   "cell_type": "markdown",
   "metadata": {},
   "source": [
    "- The last challenge created an `svg` element with a given width and height, which was visible because it had a `background-color` applied to it in the `style` tag. The code made space for the given width and height."
   ]
  },
  {
   "cell_type": "markdown",
   "metadata": {},
   "source": [
    "- The next step is to create a shape to put in the `svg` area. There are a number of supported shapes in SVG, such as rectangles and circles. They are used to display data. For example, a rectangle (`<rect>`) SVG shape could create a bar in a bar chart."
   ]
  },
  {
   "cell_type": "markdown",
   "metadata": {},
   "source": [
    "- When you place a shape into the `svg` area, you can specify where it goes with `x` and `y` coordinates. The origin point of (0, 0) is in the upper-left corner. Positive values for `x` push the shape to the right, and positive values for `y` push the shape down from the origin point."
   ]
  },
  {
   "cell_type": "markdown",
   "metadata": {},
   "source": [
    "- To place a shape in the middle of the 500 (width) x 100 (height) `svg` from last challenge, the `x` coordinate would be 250 and the `y` coordinate would be 50."
   ]
  },
  {
   "cell_type": "markdown",
   "metadata": {},
   "source": [
    "- An SVG `rect` has four attributes. There are the `x` and `y` coordinates for where it is placed in the `svg` area. It also has a `height` and `width` to specify the size.\n",
    "\n"
   ]
  },
  {
   "cell_type": "markdown",
   "metadata": {},
   "source": [
    "- Example: Add a `rect` shape to the `svg` using `append()`, and give it a `width` attribute of 25 and `height` attribute of 100. Also, give the `rect` `x` and `y` attributes each set to 0."
   ]
  },
  {
   "cell_type": "markdown",
   "metadata": {},
   "source": [
    "```html\n",
    "<body>\n",
    "  <script>\n",
    "    const dataset = [12, 31, 22, 17, 25, 18, 29, 14, 9];\n",
    "\n",
    "    const w = 500;\n",
    "    const h = 100;\n",
    "\n",
    "    const svg = d3.select(\"body\")\n",
    "                  .append(\"svg\")\n",
    "                  .attr(\"width\", w)\n",
    "                  .attr(\"height\", h)\n",
    "                  .append(\"rect\")\n",
    "                  .attr(\"width\", 25)\n",
    "                  .attr(\"height\", 100)\n",
    "                  .attr(\"x\", 0)\n",
    "                  .attr(\"y\", 0)\n",
    "  </script>\n",
    "</body>\n",
    "```"
   ]
  },
  {
   "cell_type": "markdown",
   "metadata": {},
   "source": [
    "<hr>\n",
    "<hr>"
   ]
  },
  {
   "cell_type": "markdown",
   "metadata": {},
   "source": [
    "### _Create a Bar for Each Data Point in the Set_"
   ]
  },
  {
   "cell_type": "markdown",
   "metadata": {},
   "source": [
    "- Example: Use the `data()`, `enter()`, and `append()` methods to create and append a `rect` for each item in `dataset`. The bars should display all on top of each other, this will be fixed in the next challenge."
   ]
  },
  {
   "cell_type": "markdown",
   "metadata": {},
   "source": [
    "```html\n",
    "<body>\n",
    "  <script>\n",
    "    const dataset = [12, 31, 22, 17, 25, 18, 29, 14, 9];\n",
    "\n",
    "    const w = 500;\n",
    "    const h = 100;\n",
    "\n",
    "    const svg = d3.select(\"body\")\n",
    "                  .append(\"svg\")\n",
    "                  .attr(\"width\", w)\n",
    "                  .attr(\"height\", h);\n",
    "\n",
    "    svg.selectAll(\"rect\")\n",
    "        .data(dataset)\n",
    "        .enter()\n",
    "        .append(\"rect\")\n",
    "       .attr(\"x\", 0)\n",
    "       .attr(\"y\", 0)\n",
    "       .attr(\"width\", 25)\n",
    "       .attr(\"height\", 100);\n",
    "  </script>\n",
    "</body>\n",
    "\n",
    "```"
   ]
  },
  {
   "cell_type": "markdown",
   "metadata": {},
   "source": [
    "### _Dynamically Set the Coordinates for Each Bar_"
   ]
  },
  {
   "cell_type": "markdown",
   "metadata": {},
   "source": [
    "- The last challenge created and appended a rectangle to the `svg` element for each point in `dataset` to represent a bar. Unfortunately, they were all stacked on top of each other."
   ]
  },
  {
   "cell_type": "markdown",
   "metadata": {},
   "source": [
    "- The placement of a rectangle is handled by the `x` and `y` attributes. They tell D3 where to start drawing the shape in the `svg` area. The last challenge set them each to 0, so every bar was placed in the upper-left corner."
   ]
  },
  {
   "cell_type": "markdown",
   "metadata": {},
   "source": [
    "- For a bar chart, all of the bars should sit on the same vertical level, which means the `y` value stays the same (at 0) for all bars. The `x` value, however, needs to change as you add new bars. Remember that larger `x` values push items farther to the right. As you go through the array elements in `dataset`, the `x` value should increase."
   ]
  },
  {
   "cell_type": "markdown",
   "metadata": {},
   "source": [
    "- The `attr()` method in D3 accepts a callback function to dynamically set that attribute. The callback function takes two arguments, one for the data point itself (usually `d`) and one for the index of the data point in the array. The second argument for the index is optional. Here's the format:"
   ]
  },
  {
   "cell_type": "markdown",
   "metadata": {},
   "source": [
    "```html\n",
    "selection.attr(\"property\", (d, i) => {\n",
    "  /* \n",
    "  * d is the data point value\n",
    "  * i is the index of the data point in the array\n",
    "  */\n",
    "})\n",
    "```"
   ]
  },
  {
   "cell_type": "markdown",
   "metadata": {},
   "source": [
    "- It's important to note that you do NOT need to write a `for` loop or use `forEach()` to iterate over the items in the data set. Recall that the `data()` method parses the data set, and any method that's chained after `data()` is run once for each item in the data set."
   ]
  },
  {
   "cell_type": "markdown",
   "metadata": {},
   "source": [
    "- Example: \n",
    "    - Change the `x` attribute callback function so it returns the index times 30.\n",
    "    - Note: Each bar has a width of 25, so increasing each `x` value by 30 adds some space between the bars. Any value greater than 25 would work in this example."
   ]
  },
  {
   "cell_type": "markdown",
   "metadata": {},
   "source": [
    "```html\n",
    "<body>\n",
    "  <script>\n",
    "    const dataset = [12, 31, 22, 17, 25, 18, 29, 14, 9];\n",
    "\n",
    "    const w = 500;\n",
    "    const h = 100;\n",
    "\n",
    "    const svg = d3.select(\"body\")\n",
    "                  .append(\"svg\")\n",
    "                  .attr(\"width\", w)\n",
    "                  .attr(\"height\", h);\n",
    "\n",
    "    svg.selectAll(\"rect\")\n",
    "       .data(dataset)\n",
    "       .enter()\n",
    "       .append(\"rect\")\n",
    "       .attr(\"x\", (d, i) => {\n",
    "          return i*30\n",
    "       })\n",
    "       .attr(\"y\", 0)\n",
    "       .attr(\"width\", 25)\n",
    "       .attr(\"height\", 100);\n",
    "  </script>\n",
    "</body>\n",
    "\n",
    "```"
   ]
  },
  {
   "cell_type": "markdown",
   "metadata": {},
   "source": [
    "![](./images/every_bar.png)"
   ]
  },
  {
   "cell_type": "markdown",
   "metadata": {},
   "source": [
    "### _Dynamically Change the Height of Each Bar_"
   ]
  },
  {
   "cell_type": "markdown",
   "metadata": {},
   "source": [
    "- Example: \n",
    "    - Change the callback function for the `height` attribute to return the data value times 3.\n",
    "    - Note: Remember that multiplying all data points by the same constant scales the data (like zooming in). It helps to see the differences between bar values in this example."
   ]
  },
  {
   "cell_type": "markdown",
   "metadata": {},
   "source": [
    "```html\n",
    "<body>\n",
    "  <script>\n",
    "    const dataset = [12, 31, 22, 17, 25, 18, 29, 14, 9];\n",
    "\n",
    "    const w = 500;\n",
    "    const h = 100;\n",
    "\n",
    "    const svg = d3.select(\"body\")\n",
    "                  .append(\"svg\")\n",
    "                  .attr(\"width\", w)\n",
    "                  .attr(\"height\", h);\n",
    "\n",
    "    svg.selectAll(\"rect\")\n",
    "       .data(dataset)\n",
    "       .enter()\n",
    "       .append(\"rect\")\n",
    "       .attr(\"x\", (d, i) => i * 30)\n",
    "       .attr(\"y\", 0)\n",
    "       .attr(\"width\", 25)\n",
    "       .attr(\"height\", (d, i) => {\n",
    "         return d*3\n",
    "       });\n",
    "  </script>\n",
    "</body>\n",
    "```"
   ]
  },
  {
   "cell_type": "markdown",
   "metadata": {},
   "source": [
    "![](./images/the_height_of_each_bar.png)"
   ]
  },
  {
   "cell_type": "markdown",
   "metadata": {},
   "source": [
    "### _Invert SVG Elements_"
   ]
  },
  {
   "cell_type": "code",
   "execution_count": null,
   "metadata": {},
   "outputs": [],
   "source": []
  },
  {
   "cell_type": "code",
   "execution_count": null,
   "metadata": {},
   "outputs": [],
   "source": []
  },
  {
   "cell_type": "code",
   "execution_count": null,
   "metadata": {},
   "outputs": [],
   "source": []
  },
  {
   "cell_type": "code",
   "execution_count": null,
   "metadata": {},
   "outputs": [],
   "source": []
  }
 ],
 "metadata": {
  "kernelspec": {
   "display_name": "Python 3",
   "language": "python",
   "name": "python3"
  },
  "language_info": {
   "codemirror_mode": {
    "name": "ipython",
    "version": 3
   },
   "file_extension": ".py",
   "mimetype": "text/x-python",
   "name": "python",
   "nbconvert_exporter": "python",
   "pygments_lexer": "ipython3",
   "version": "3.7.4"
  }
 },
 "nbformat": 4,
 "nbformat_minor": 2
}
