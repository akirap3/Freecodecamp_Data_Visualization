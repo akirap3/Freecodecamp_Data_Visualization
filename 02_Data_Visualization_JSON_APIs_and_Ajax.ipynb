{
 "cells": [
  {
   "cell_type": "markdown",
   "metadata": {},
   "source": [
    "### _Introduction to the JSON APIs and AJAX Challenges_"
   ]
  },
  {
   "cell_type": "markdown",
   "metadata": {},
   "source": [
    "- Similar to how User Interfaces help people use programs, Application Programming Interfaces (APIs) help programs interact with other programs. APIs are tools that computers use to communicate with one another, in part to send and receive data. You can use API functionality in your page once you understand how to make requests and process data from it. Programmers often use AJAX technologies when working with APIs."
   ]
  },
  {
   "cell_type": "markdown",
   "metadata": {},
   "source": [
    "- The term AJAX originated as an acronym for Asynchronous JavaScript And XML. It refers to a group of technologies that make asynchronous requests to a server to transfer data, then load any returned data into the page. An asynchronous process has a couple key properties. The browser does not stop loading a page to wait for the server's response. Also, the browser inserts updated data into part of the page without having to refresh the entire page."
   ]
  },
  {
   "cell_type": "markdown",
   "metadata": {},
   "source": [
    "- User experience benefits from asynchronous processes in several ways. Pages load faster since the browser isn't waiting for the server to respond in the middle of a page render. Requests and transfers happen in the background, without interrupting what the user is doing. When the browser receives new data, only the necessary area of the page refreshes. These qualities especially enhance the user experience for single page applications."
   ]
  },
  {
   "cell_type": "markdown",
   "metadata": {},
   "source": [
    "- The data transferred between the browser and server is often in a format called JavaScript Object Notation (JSON). JSON resembles JavaScript object literal syntax, except that it's transferred as a string. Once received, it can be converted into an object and used in a script."
   ]
  },
  {
   "cell_type": "markdown",
   "metadata": {},
   "source": [
    "<hr>\n",
    "<hr>"
   ]
  },
  {
   "cell_type": "markdown",
   "metadata": {},
   "source": [
    "### _Handle Click Events with JavaScript using the onclick property_"
   ]
  },
  {
   "cell_type": "markdown",
   "metadata": {},
   "source": [
    "- You want your code to execute only once your page has finished loading. For that purpose, you can attach a JavaScript event to the document called `DOMContentLoaded`. Here's the code that does this:"
   ]
  },
  {
   "cell_type": "markdown",
   "metadata": {},
   "source": [
    "```js\n",
    "document.addEventListener('DOMContentLoaded', function() {\n",
    "\n",
    "});\n",
    "```"
   ]
  },
  {
   "cell_type": "markdown",
   "metadata": {},
   "source": [
    "- You can implement event handlers that go inside of the `DOMContentLoaded` function. You can implement an `onclick` event handler which triggers when the user clicks on the element with id `getMessage`, by adding the following code:"
   ]
  },
  {
   "cell_type": "markdown",
   "metadata": {},
   "source": [
    "```js\n",
    "document.getElementById('getMessage').onclick = function(){};\n",
    "```"
   ]
  },
  {
   "cell_type": "markdown",
   "metadata": {},
   "source": [
    "- Example: Add a click event handler inside of the `DOMContentLoaded` function for the element with id of `getMessage`."
   ]
  },
  {
   "cell_type": "markdown",
   "metadata": {},
   "source": [
    "```html\n",
    "<script>\n",
    "  document.addEventListener('DOMContentLoaded', function(){\n",
    "    document.getElementById(\"getMessage\").onclick = function() {};\n",
    "  });\n",
    "</script>\n",
    "\n",
    "<style>\n",
    "  body {\n",
    "    text-align: center;\n",
    "    font-family: \"Helvetica\", sans-serif;\n",
    "  }\n",
    "  h1 {\n",
    "    font-size: 2em;\n",
    "    font-weight: bold;\n",
    "  }\n",
    "  .box {\n",
    "    border-radius: 5px;\n",
    "    background-color: #eee;\n",
    "    padding: 20px 5px;\n",
    "  }\n",
    "  button {\n",
    "    color: white;\n",
    "    background-color: #4791d0;\n",
    "    border-radius: 5px;\n",
    "    border: 1px solid #4791d0;\n",
    "    padding: 5px 10px 8px 10px;\n",
    "  }\n",
    "  button:hover {\n",
    "    background-color: #0F5897;\n",
    "    border: 1px solid #0F5897;\n",
    "  }\n",
    "</style>\n",
    "<h1>Cat Photo Finder</h1>\n",
    "<p class=\"message box\">\n",
    "  The message will go here\n",
    "</p>\n",
    "<p>\n",
    "  <button id=\"getMessage\">\n",
    "    Get Message\n",
    "  </button>\n",
    "</p>\n",
    "```"
   ]
  },
  {
   "cell_type": "markdown",
   "metadata": {},
   "source": [
    "![](./images/JSON_APIs_and_AJAX/Handle_Click_Events_with_JavaScript_using_the_onclick_property.png)"
   ]
  },
  {
   "cell_type": "markdown",
   "metadata": {},
   "source": [
    "<hr>\n",
    "<hr>"
   ]
  },
  {
   "cell_type": "markdown",
   "metadata": {},
   "source": [
    "### _Change Text with click Events_"
   ]
  },
  {
   "cell_type": "markdown",
   "metadata": {},
   "source": [
    "- When the click event happens, you can use JavaScript to update an HTML element."
   ]
  },
  {
   "cell_type": "markdown",
   "metadata": {},
   "source": [
    "- For example, when a user clicks the \"Get Message\" button, it changes the text of the element with the class message to say \"Here is the message\"."
   ]
  },
  {
   "cell_type": "markdown",
   "metadata": {},
   "source": [
    "- This works by adding the following code within the click event:\n",
    "\n",
    "```js\n",
    "document.getElementsByClassName('message')[0].textContent=\"Here is the message\";\n",
    "```\n"
   ]
  },
  {
   "cell_type": "markdown",
   "metadata": {},
   "source": [
    "- Example:"
   ]
  },
  {
   "cell_type": "markdown",
   "metadata": {},
   "source": [
    "```html\n",
    "<script>\n",
    "  document.addEventListener('DOMContentLoaded', function(){\n",
    "    document.getElementById('getMessage').onclick = function(){\n",
    "      document.getElementsByClassName('message')[0].textContent=\"Here is the message\";\n",
    "    }\n",
    "  });\n",
    "</script>\n",
    "\n",
    "<style>\n",
    "  body {\n",
    "    text-align: center;\n",
    "    font-family: \"Helvetica\", sans-serif;\n",
    "  }\n",
    "  h1 {\n",
    "    font-size: 2em;\n",
    "    font-weight: bold;\n",
    "  }\n",
    "  .box {\n",
    "    border-radius: 5px;\n",
    "    background-color: #eee;\n",
    "    padding: 20px 5px;\n",
    "  }\n",
    "  button {\n",
    "    color: white;\n",
    "    background-color: #4791d0;\n",
    "    border-radius: 5px;\n",
    "    border: 1px solid #4791d0;\n",
    "    padding: 5px 10px 8px 10px;\n",
    "  }\n",
    "  button:hover {\n",
    "    background-color: #0F5897;\n",
    "    border: 1px solid #0F5897;\n",
    "  }\n",
    "</style>\n",
    "\n",
    "<h1>Cat Photo Finder</h1>\n",
    "<p class=\"message box\">\n",
    "  The message will go here\n",
    "</p>\n",
    "<p>\n",
    "  <button id=\"getMessage\">\n",
    "    Get Message\n",
    "  </button>\n",
    "</p>\n",
    "```"
   ]
  },
  {
   "cell_type": "markdown",
   "metadata": {},
   "source": [
    "![](./images/JSON_APIs_and_AJAX/ChangeTextWithClickEvents.png)"
   ]
  },
  {
   "cell_type": "markdown",
   "metadata": {},
   "source": [
    "<hr>\n",
    "<hr>"
   ]
  },
  {
   "cell_type": "markdown",
   "metadata": {},
   "source": [
    "### _Get JSON with the JavaScript XMLHttpRequest Method_"
   ]
  },
  {
   "cell_type": "markdown",
   "metadata": {},
   "source": [
    "- You can also request data from an external source. This is where APIs come into play."
   ]
  },
  {
   "cell_type": "markdown",
   "metadata": {},
   "source": [
    "- Remember that APIs - or Application Programming Interfaces - are tools that computers use to communicate with one another. You'll learn how to update HTML with the data we get from APIs using a technology called AJAX."
   ]
  },
  {
   "cell_type": "markdown",
   "metadata": {},
   "source": [
    "- Most web APIs transfer data in a format called JSON. JSON stands for JavaScript Object Notation."
   ]
  },
  {
   "cell_type": "markdown",
   "metadata": {},
   "source": [
    "- JSON syntax looks very similar to JavaScript object literal notation. JSON has object properties and their current values, sandwiched between a `{` and a `}`."
   ]
  },
  {
   "cell_type": "markdown",
   "metadata": {},
   "source": [
    "- These properties and their values are often referred to as \"key-value pairs\"."
   ]
  },
  {
   "cell_type": "markdown",
   "metadata": {},
   "source": [
    "- However, JSON transmitted by APIs are sent as `bytes`, and your application receives it as a `string`. These can be converted into JavaScript objects, but they are not JavaScript objects by default. The `JSON.parse` method parses the string and constructs the JavaScript object described by it."
   ]
  },
  {
   "cell_type": "markdown",
   "metadata": {},
   "source": [
    "- You can request the JSON from freeCodeCamp's Cat Photo API. Here's the code you can put in your click event to do this:"
   ]
  },
  {
   "cell_type": "markdown",
   "metadata": {},
   "source": [
    "```js\n",
    "const req = new XMLHttpRequest();\n",
    "req.open(\"GET\",'/json/cats.json',true);\n",
    "req.send();\n",
    "req.onload = function(){\n",
    "  const json = JSON.parse(req.responseText);\n",
    "  document.getElementsByClassName('message')[0].innerHTML = JSON.stringify(json);\n",
    "};\n",
    "```"
   ]
  },
  {
   "cell_type": "markdown",
   "metadata": {},
   "source": [
    "- Here's a review of what each piece is doing. The JavaScript `XMLHttpRequest` object has a number of properties and methods that are used to transfer data. \n",
    "    - First, an instance of the `XMLHttpRequest` object is created and saved in the `req` variable. \n",
    "    - Next, the `open` method initializes a request - this example is requesting data from an API, therefore is a \"GET\" request.\n",
    "    - The second argument for `open` is the URL of the API you are requesting data from. \n",
    "    - The third argument is a Boolean value where `true` makes it an asynchronous request. \n",
    "    - The `send` method sends the request. \n",
    "    - Finally, the `onload` event handler parses the returned data and applies the `JSON.stringify` method to convert the JavaScript object into a string. This string is then inserted as the message text."
   ]
  },
  {
   "cell_type": "markdown",
   "metadata": {},
   "source": [
    "- Example: Update the code to create and send a \"GET\" request to the freeCodeCamp Cat Photo API. Then click the \"Get Message\" button. Your AJAX function will replace the \"The message will go here\" text with the raw JSON output from the API."
   ]
  },
  {
   "cell_type": "markdown",
   "metadata": {},
   "source": [
    "```html\n",
    "<script>\n",
    "  document.addEventListener('DOMContentLoaded', function(){\n",
    "    document.getElementById('getMessage').onclick = function(){\n",
    "      const req = new XMLHttpRequest();\n",
    "      req.open(\"GET\", \"/json/cats.json\", true);\n",
    "      req.send()\n",
    "      req.onload = function() {\n",
    "        const json = JSON.parse(req.responseText);\n",
    "        document.getElementsByClassName('message')[0].innerHTML = JSON.stringify(json);\n",
    "      }\n",
    "    };\n",
    "  });\n",
    "</script>\n",
    "\n",
    "<style>\n",
    "  body {\n",
    "    text-align: center;\n",
    "    font-family: \"Helvetica\", sans-serif;\n",
    "  }\n",
    "  h1 {\n",
    "    font-size: 2em;\n",
    "    font-weight: bold;\n",
    "  }\n",
    "  .box {\n",
    "    border-radius: 5px;\n",
    "    background-color: #eee;\n",
    "    padding: 20px 5px;\n",
    "  }\n",
    "  button {\n",
    "    color: white;\n",
    "    background-color: #4791d0;\n",
    "    border-radius: 5px;\n",
    "    border: 1px solid #4791d0;\n",
    "    padding: 5px 10px 8px 10px;\n",
    "  }\n",
    "  button:hover {\n",
    "    background-color: #0F5897;\n",
    "    border: 1px solid #0F5897;\n",
    "  }\n",
    "</style>\n",
    "\n",
    "<h1>Cat Photo Finder</h1>\n",
    "<p class=\"message box\">\n",
    "  The message will go here\n",
    "</p>\n",
    "<p>\n",
    "  <button id=\"getMessage\">\n",
    "    Get Message\n",
    "  </button>\n",
    "</p>\n",
    "\n",
    "```"
   ]
  },
  {
   "cell_type": "markdown",
   "metadata": {},
   "source": [
    "![](./images/JSON_APIs_and_AJAX/XMLHttpRequestMethod.png)"
   ]
  },
  {
   "cell_type": "markdown",
   "metadata": {},
   "source": [
    "<hr>\n",
    "<hr>"
   ]
  },
  {
   "cell_type": "markdown",
   "metadata": {},
   "source": [
    "### _Get JSON with the JavaScript fetch method_"
   ]
  },
  {
   "cell_type": "markdown",
   "metadata": {},
   "source": [
    "- Another way to request external data is to use the JavaScript `fetch()` method. It is equivalent to XMLHttpRequest, but the syntax is considered easier to understand."
   ]
  },
  {
   "cell_type": "markdown",
   "metadata": {},
   "source": [
    "- Here is the code for making a GET request to `/json/cats.json`"
   ]
  },
  {
   "cell_type": "markdown",
   "metadata": {},
   "source": [
    "```js\n",
    "fetch('/json/cats.json')\n",
    "    .then(response => response.json())\n",
    "    .then(data => {\n",
    "        document.getElementById('message').innerHTML = JSON.stringify(data);\n",
    "    })\n",
    "```"
   ]
  },
  {
   "cell_type": "markdown",
   "metadata": {},
   "source": [
    "- The first line is the one that makes the request. So, `fetch(URL)` makes a GET request to the URL specified. The method returns a Promise.\n",
    "\n",
    "- After a Promise is returned, if the request was successful, the `then` method is executed, which takes the response and converts it to JSON format.\n",
    "\n",
    "- The `then` method also returns a Promise, which is handled by the next `then` method. The argument in the second `then` is the JSON object you are looking for!\n",
    "\n",
    "- Now, it selects the element that will receive the data by using `document.getElementById()`. Then it modifies the HTML code of the element by inserting a string created from the JSON object returned from the request."
   ]
  },
  {
   "cell_type": "markdown",
   "metadata": {},
   "source": [
    "- Example:"
   ]
  },
  {
   "cell_type": "markdown",
   "metadata": {},
   "source": [
    "```js\n",
    "<script>\n",
    "  document.addEventListener('DOMContentLoaded',function(){\n",
    "    document.getElementById('getMessage').onclick= () => {\n",
    "      fetch('/json/cats.json')\n",
    "        .then(response => response.json())\n",
    "        .then(data => {\n",
    "          document.getElementById('message').innerHTML = JSON.stringify(data)\n",
    "        })\n",
    "    };\n",
    "  });\n",
    "</script>\n",
    "<style>\n",
    "  body {\n",
    "    text-align: center;\n",
    "    font-family: \"Helvetica\", sans-serif;\n",
    "  }\n",
    "  h1 {\n",
    "    font-size: 2em;\n",
    "    font-weight: bold;\n",
    "  }\n",
    "  .box {\n",
    "    border-radius: 5px;\n",
    "    background-color: #eee;\n",
    "    padding: 20px 5px;\n",
    "  }\n",
    "  button {\n",
    "    color: white;\n",
    "    background-color: #4791d0;\n",
    "    border-radius: 5px;\n",
    "    border: 1px solid #4791d0;\n",
    "    padding: 5px 10px 8px 10px;\n",
    "  }\n",
    "  button:hover {\n",
    "    background-color: #0F5897;\n",
    "    border: 1px solid #0F5897;\n",
    "  }\n",
    "</style>\n",
    "<h1>Cat Photo Finder</h1>\n",
    "<p id=\"message\" class=\"box\">\n",
    "  The message will go here\n",
    "</p>\n",
    "<p>\n",
    "  <button id=\"getMessage\">\n",
    "    Get Message\n",
    "  </button>\n",
    "</p>\n",
    "\n",
    "```"
   ]
  },
  {
   "cell_type": "markdown",
   "metadata": {},
   "source": [
    "![](./images/JSON_APIs_and_AJAX/fetch_method.png)"
   ]
  },
  {
   "cell_type": "markdown",
   "metadata": {},
   "source": [
    "<hr>\n",
    "<hr>"
   ]
  },
  {
   "cell_type": "markdown",
   "metadata": {},
   "source": [
    "### _Access the JSON Data from an API_"
   ]
  },
  {
   "cell_type": "markdown",
   "metadata": {},
   "source": [
    "- Now you'll take a closer look at the returned data to better understand the JSON format. Recall some notation in JavaScript:"
   ]
  },
  {
   "cell_type": "markdown",
   "metadata": {},
   "source": [
    "```\n",
    "[ ] -> Square brackets represent an arra\n",
    "{ } -> Curly brackets represent an object\n",
    "\" \" -> Double quotes represent a string. They are also used for key names in JSON\n",
    "```"
   ]
  },
  {
   "cell_type": "markdown",
   "metadata": {},
   "source": [
    "- Example: For the cat with the \"id\" of 2, print to the console the second value in the `codeNames` array. You should use bracket and dot notation on the object (which is saved in the variable `json`) to access the value."
   ]
  },
  {
   "cell_type": "markdown",
   "metadata": {},
   "source": [
    "```html\n",
    "<script>\n",
    "  document.addEventListener('DOMContentLoaded', function(){\n",
    "    document.getElementById('getMessage').onclick = function(){\n",
    "      const req = new XMLHttpRequest();\n",
    "      req.open(\"GET\",'/json/cats.json', true);\n",
    "      req.send();\n",
    "      req.onload=function(){\n",
    "        const json = JSON.parse(req.responseText);\n",
    "        document.getElementsByClassName('message')[0].innerHTML = JSON.stringify(json);\n",
    "        console.log(json[2][\"codeNames\"][1])\n",
    "      };\n",
    "    };\n",
    "  });\n",
    "</script>\n",
    "\n",
    "<style>\n",
    "  body {\n",
    "    text-align: center;\n",
    "    font-family: \"Helvetica\", sans-serif;\n",
    "  }\n",
    "  h1 {\n",
    "    font-size: 2em;\n",
    "    font-weight: bold;\n",
    "  }\n",
    "  .box {\n",
    "    border-radius: 5px;\n",
    "    background-color: #eee;\n",
    "    padding: 20px 5px;\n",
    "  }\n",
    "  button {\n",
    "    color: white;\n",
    "    background-color: #4791d0;\n",
    "    border-radius: 5px;\n",
    "    border: 1px solid #4791d0;\n",
    "    padding: 5px 10px 8px 10px;\n",
    "  }\n",
    "  button:hover {\n",
    "    background-color: #0F5897;\n",
    "    border: 1px solid #0F5897;\n",
    "  }\n",
    "</style>\n",
    "\n",
    "<h1>Cat Photo Finder</h1>\n",
    "<p class=\"message box\">\n",
    "  The message will go here\n",
    "</p>\n",
    "<p>\n",
    "  <button id=\"getMessage\">\n",
    "    Get Message\n",
    "  </button>\n",
    "</p>\n",
    "\n",
    "\n",
    "```"
   ]
  },
  {
   "cell_type": "markdown",
   "metadata": {},
   "source": [
    "### _Convert JSON Data to HTML_"
   ]
  },
  {
   "cell_type": "markdown",
   "metadata": {},
   "source": [
    "- Now that you're getting data from a JSON API, you can display it in the HTML."
   ]
  },
  {
   "cell_type": "markdown",
   "metadata": {},
   "source": [
    "- You can use a `forEach` method to loop through the data since the cat photo objects are held in an array. As you get to each item, you can modify the HTML elements."
   ]
  },
  {
   "cell_type": "markdown",
   "metadata": {},
   "source": [
    "- First, declare an html variable with `let html = \"\";`."
   ]
  },
  {
   "cell_type": "markdown",
   "metadata": {},
   "source": [
    "- Then, loop through the JSON, adding HTML to the variable that wraps the key names in `strong` tags, followed by the value. When the loop is finished, you render it."
   ]
  },
  {
   "cell_type": "markdown",
   "metadata": {},
   "source": [
    "- Here's the code that does this:"
   ]
  },
  {
   "cell_type": "markdown",
   "metadata": {},
   "source": [
    "```js\n",
    "let html = \"\";\n",
    "json.forEach(function(val) {\n",
    "  const keys = Object.keys(val);\n",
    "  html += \"<div class = 'cat'>\";\n",
    "  keys.forEach(function(key) {\n",
    "    html += \"<strong>\" + key + \"</strong>: \" + val[key] + \"<br>\";\n",
    "  });\n",
    "  html += \"</div><br>\";\n",
    "});\n",
    "```"
   ]
  },
  {
   "cell_type": "markdown",
   "metadata": {},
   "source": [
    "- Note: For this challenge, you need to add new HTML elements to the page, so you cannot rely on `textContent`. Instead, you need to use `innerHTML`, which can make a site vulnerable to Cross-site scripting attacks."
   ]
  },
  {
   "cell_type": "markdown",
   "metadata": {},
   "source": [
    "- Example:"
   ]
  },
  {
   "cell_type": "markdown",
   "metadata": {},
   "source": [
    "```html\n",
    "<script>\n",
    "  document.addEventListener('DOMContentLoaded', function(){\n",
    "    document.getElementById('getMessage').onclick = function(){\n",
    "      const req = new XMLHttpRequest();\n",
    "      req.open(\"GET\",'/json/cats.json',true);\n",
    "      req.send();\n",
    "      req.onload = function(){\n",
    "        const json = JSON.parse(req.responseText);\n",
    "        let html = \"\";\n",
    "        json.forEach( val => {\n",
    "          const keys = Object.keys(val);\n",
    "          html += \"<div class = 'cat'>\"\n",
    "          keys.forEach( key => {\n",
    "            html += \"<strong>\" + key + \"</strong>\" + val[key] + \"<br>\";\n",
    "          });\n",
    "          html += \"</div><br>\"\n",
    "        })\n",
    "        document.getElementsByClassName('message')[0].innerHTML = html;\n",
    "      };\n",
    "    };\n",
    "  });\n",
    "</script>\n",
    "\n",
    "<style>\n",
    "  body {\n",
    "    text-align: center;\n",
    "    font-family: \"Helvetica\", sans-serif;\n",
    "  }\n",
    "  h1 {\n",
    "    font-size: 2em;\n",
    "    font-weight: bold;\n",
    "  }\n",
    "  .box {\n",
    "    border-radius: 5px;\n",
    "    background-color: #eee;\n",
    "    padding: 20px 5px;\n",
    "  }\n",
    "  button {\n",
    "    color: white;\n",
    "    background-color: #4791d0;\n",
    "    border-radius: 5px;\n",
    "    border: 1px solid #4791d0;\n",
    "    padding: 5px 10px 8px 10px;\n",
    "  }\n",
    "  button:hover {\n",
    "    background-color: #0F5897;\n",
    "    border: 1px solid #0F5897;\n",
    "  }\n",
    "</style>\n",
    "\n",
    "<h1>Cat Photo Finder</h1>\n",
    "<p class=\"message box\">\n",
    "  The message will go here\n",
    "</p>\n",
    "<p>\n",
    "  <button id=\"getMessage\">\n",
    "    Get Message\n",
    "  </button>\n",
    "</p>\n",
    "```"
   ]
  },
  {
   "cell_type": "markdown",
   "metadata": {},
   "source": [
    "![](./images/JSON_APIs_and_AJAX/JSONDataToHTML.png)"
   ]
  },
  {
   "cell_type": "markdown",
   "metadata": {},
   "source": [
    "<hr>\n",
    "<hr>"
   ]
  },
  {
   "cell_type": "markdown",
   "metadata": {},
   "source": [
    "### _Render Images from Data Sources_"
   ]
  },
  {
   "cell_type": "markdown",
   "metadata": {},
   "source": [
    "- The last few challenges showed that each object in the JSON array contains an `imageLink` key with a value that is the URL of a cat's image.\n",
    "\n"
   ]
  },
  {
   "cell_type": "markdown",
   "metadata": {},
   "source": [
    "- When you're looping through these objects, you can use this `imageLink` property to display this image in an `img` element.\n"
   ]
  },
  {
   "cell_type": "markdown",
   "metadata": {},
   "source": [
    "\n",
    "- Here's the code that does this:\n"
   ]
  },
  {
   "cell_type": "markdown",
   "metadata": {},
   "source": [
    "```html\n",
    "\n",
    "html += \"<img src = '\" + val.imageLink + \"' \" + \"alt='\" + val.altText + \"'>\";\n",
    "```"
   ]
  },
  {
   "cell_type": "markdown",
   "metadata": {},
   "source": [
    "- Example:"
   ]
  },
  {
   "cell_type": "markdown",
   "metadata": {},
   "source": [
    "```html\n",
    "<script>\n",
    "  document.addEventListener('DOMContentLoaded', function(){\n",
    "    document.getElementById('getMessage').onclick = function(){\n",
    "      const req=new XMLHttpRequest();\n",
    "      req.open(\"GET\",'/json/cats.json',true);\n",
    "      req.send();\n",
    "      req.onload = function(){\n",
    "        const json = JSON.parse(req.responseText);\n",
    "        let html = \"\";\n",
    "        json.forEach(function(val) {\n",
    "          html += \"<div class = 'cat'>\";\n",
    "          html += \"<img src ='\" + val.imageLink + \"'\" + \"alt ='\" + val.altText + \"'>\";\n",
    "          html += \"</div><br>\";\n",
    "        });\n",
    "        document.getElementsByClassName('message')[0].innerHTML=html;\n",
    "      };\n",
    "     };\n",
    "  });\n",
    "</script>\n",
    "\n",
    "<style>\n",
    "  body {\n",
    "    text-align: center;\n",
    "    font-family: \"Helvetica\", sans-serif;\n",
    "  }\n",
    "  h1 {\n",
    "    font-size: 2em;\n",
    "    font-weight: bold;\n",
    "  }\n",
    "  .box {\n",
    "    border-radius: 5px;\n",
    "    background-color: #eee;\n",
    "    padding: 20px 5px;\n",
    "  }\n",
    "  button {\n",
    "    color: white;\n",
    "    background-color: #4791d0;\n",
    "    border-radius: 5px;\n",
    "    border: 1px solid #4791d0;\n",
    "    padding: 5px 10px 8px 10px;\n",
    "  }\n",
    "  button:hover {\n",
    "    background-color: #0F5897;\n",
    "    border: 1px solid #0F5897;\n",
    "  }\n",
    "</style>\n",
    "<h1>Cat Photo Finder</h1>\n",
    "<p class=\"message box\">\n",
    "  The message will go here\n",
    "</p>\n",
    "<p>\n",
    "  <button id=\"getMessage\">\n",
    "    Get Message\n",
    "  </button>\n",
    "</p>\n",
    "\n",
    "```"
   ]
  },
  {
   "cell_type": "markdown",
   "metadata": {},
   "source": [
    "![](./images/JSON_APIs_and_AJAX/renderImages.png)"
   ]
  },
  {
   "cell_type": "markdown",
   "metadata": {},
   "source": [
    "<hr>\n",
    "<hr>"
   ]
  },
  {
   "cell_type": "markdown",
   "metadata": {},
   "source": [
    "### _Pre-filter JSON to Get the Data You Need_"
   ]
  },
  {
   "cell_type": "markdown",
   "metadata": {},
   "source": [
    "- Given that the JSON data is stored in an array, you can use the `filter` method to filter out the cat whose \"id\" key has a value of 1."
   ]
  },
  {
   "cell_type": "markdown",
   "metadata": {},
   "source": [
    "- Here's the code to do this:"
   ]
  },
  {
   "cell_type": "markdown",
   "metadata": {},
   "source": [
    "```js\n",
    "json = json.filter(function(val) {\n",
    "  return (val.id !== 1);\n",
    "});\n",
    "```"
   ]
  },
  {
   "cell_type": "markdown",
   "metadata": {},
   "source": [
    "- Example:"
   ]
  },
  {
   "cell_type": "markdown",
   "metadata": {},
   "source": [
    "```html\n",
    "<script>\n",
    "  document.addEventListener('DOMContentLoaded', function(){\n",
    "    document.getElementById('getMessage').onclick = function(){\n",
    "      const req = new XMLHttpRequest();\n",
    "      req.open(\"GET\",'/json/cats.json', true);\n",
    "      req.send();\n",
    "      req.onload=function(){\n",
    "        let json = JSON.parse(req.responseText);\n",
    "        let html = \"\";\n",
    "        json = json.filter( val => val.id !== 1)\n",
    "         json.forEach(function(val) {\n",
    "           html += \"<div class = 'cat'>\"\n",
    "\n",
    "           html += \"<img src = '\" + val.imageLink + \"' \" + \"alt='\" + val.altText + \"'>\"\n",
    "\n",
    "           html += \"</div>\"\n",
    "         });\n",
    "         document.getElementsByClassName('message')[0].innerHTML = html;\n",
    "       };\n",
    "     };\n",
    "  });\n",
    "</script>\n",
    "\n",
    "<style>\n",
    "  body {\n",
    "    text-align: center;\n",
    "    font-family: \"Helvetica\", sans-serif;\n",
    "  }\n",
    "  h1 {\n",
    "    font-size: 2em;\n",
    "    font-weight: bold;\n",
    "  }\n",
    "  .box {\n",
    "    border-radius: 5px;\n",
    "    background-color: #eee;\n",
    "    padding: 20px 5px;\n",
    "  }\n",
    "  button {\n",
    "    color: white;\n",
    "    background-color: #4791d0;\n",
    "    border-radius: 5px;\n",
    "    border: 1px solid #4791d0;\n",
    "    padding: 5px 10px 8px 10px;\n",
    "  }\n",
    "  button:hover {\n",
    "    background-color: #0F5897;\n",
    "    border: 1px solid #0F5897;\n",
    "  }\n",
    "</style>\n",
    "\n",
    "<h1>Cat Photo Finder</h1>\n",
    "<p class=\"message box\">\n",
    "  The message will go here\n",
    "</p>\n",
    "<p>\n",
    "  <button id=\"getMessage\">\n",
    "    Get Message\n",
    "  </button>\n",
    "</p>\n",
    "\n",
    "```"
   ]
  },
  {
   "cell_type": "markdown",
   "metadata": {},
   "source": [
    "![](./images/JSON_APIs_and_AJAX/filter.png)"
   ]
  },
  {
   "cell_type": "markdown",
   "metadata": {},
   "source": [
    "<hr>\n",
    "<hr>"
   ]
  },
  {
   "cell_type": "markdown",
   "metadata": {},
   "source": [
    "### _Get Geolocation Data to Find A User's GPS Coordinates_"
   ]
  },
  {
   "cell_type": "markdown",
   "metadata": {},
   "source": [
    "- Another cool thing you can do is access your user's current location. Every browser has a built in navigator that can give you this information."
   ]
  },
  {
   "cell_type": "markdown",
   "metadata": {},
   "source": [
    "- The navigator will get the user's current longitude and latitude."
   ]
  },
  {
   "cell_type": "markdown",
   "metadata": {},
   "source": [
    "- You will see a prompt to allow or block this site from knowing your current location. The challenge can be completed either way, as long as the code is correct."
   ]
  },
  {
   "cell_type": "markdown",
   "metadata": {},
   "source": [
    "- By selecting allow, you will see the text on the output phone change to your latitude and longitude."
   ]
  },
  {
   "cell_type": "markdown",
   "metadata": {},
   "source": [
    "- Here's code that does this:"
   ]
  },
  {
   "cell_type": "markdown",
   "metadata": {},
   "source": [
    "```js\n",
    "if (navigator.geolocation){\n",
    "  navigator.geolocation.getCurrentPosition(function(position) {\n",
    "    document.getElementById('data').innerHTML=\"latitude: \" + position.coords.latitude + \"<br>longitude: \" + position.coords.longitude;\n",
    "  });\n",
    "}\n",
    "```"
   ]
  },
  {
   "cell_type": "markdown",
   "metadata": {},
   "source": [
    "- First, it checks if the `navigator.geolocation` object exists. If it does, the `getCurrentPosition` method on that object is called, which initiates an asynchronous request for the user's position. If the request is successful, the callback function in the method runs. This function accesses the `position` object's values for latitude and longitude using dot notation and updates the HTML."
   ]
  },
  {
   "cell_type": "markdown",
   "metadata": {},
   "source": [
    "- Example:"
   ]
  },
  {
   "cell_type": "markdown",
   "metadata": {},
   "source": [
    "```html\n",
    "<script>\n",
    "  if(navigator.geolocation) {\n",
    "    navigator.geolocation.getCurrentPosition( position => {\n",
    "      document.getElementById(\"data\").innerHTML = \"latitude: \" + position.coords.latitude + \"<br>longitude: \" + position.coords.longitude\n",
    "    });\n",
    "  }\n",
    "</script>\n",
    "<h4>You are here:</h4>\n",
    "<div id=\"data\">\n",
    "\n",
    "</div>\n",
    "\n",
    "```"
   ]
  },
  {
   "cell_type": "markdown",
   "metadata": {},
   "source": [
    "![](./images/JSON_APIs_and_AJAX/geolocation.png)"
   ]
  },
  {
   "cell_type": "markdown",
   "metadata": {},
   "source": [
    "<hr>\n",
    "<hr>"
   ]
  },
  {
   "cell_type": "markdown",
   "metadata": {},
   "source": [
    "### _Post Data with the JavaScript XMLHttpRequest Method_"
   ]
  },
  {
   "cell_type": "markdown",
   "metadata": {},
   "source": [
    "- You can also send data to an external resource, as long as that resource supports AJAX requests and you know the URL."
   ]
  },
  {
   "cell_type": "markdown",
   "metadata": {},
   "source": [
    "- JavaScript's `XMLHttpRequest` method is also used to post data to a server. Here's an example:"
   ]
  },
  {
   "cell_type": "markdown",
   "metadata": {},
   "source": [
    "```js\n",
    "const xhr = new XMLHttpRequest();\n",
    "xhr.open('POST', url, true);\n",
    "xhr.setRequestHeader('Content-Type', 'application/json; charset=UTF-8');\n",
    "xhr.onreadystatechange = function () {\n",
    "  if (xhr.readyState === 4 && xhr.status === 201){\n",
    "    const serverResponse = JSON.parse(xhr.response);\n",
    "    document.getElementsByClassName('message')[0].textContent = serverResponse.userName + serverResponse.suffix;\n",
    "  }\n",
    "};\n",
    "const body = JSON.stringify({ userName: userName, suffix: ' loves cats!' });\n",
    "xhr.send(body);\n",
    "```"
   ]
  },
  {
   "cell_type": "markdown",
   "metadata": {},
   "source": [
    "- You've seen several of these methods before. Here the `open` method initializes the request as a \"POST\" to the given URL of the external resource, and uses the `true` Boolean to make it asynchronous."
   ]
  },
  {
   "cell_type": "markdown",
   "metadata": {},
   "source": [
    "- The `setRequestHeader` method sets the value of an HTTP request header, which contains information about the sender and the request. It must be called <em>after</em> the `open` method, but <em>before</em> the `send` method. The two parameters are the name of the header and the value to set as the body of that header. "
   ]
  },
  {
   "cell_type": "markdown",
   "metadata": {},
   "source": [
    "- Next, the `onreadystatechange` event listener handles a change in the state of the request. A `readyState` of 4 means the operation is complete, and a `status` of 201 means it was a successful request. The document's HTML can be updated. "
   ]
  },
  {
   "cell_type": "markdown",
   "metadata": {},
   "source": [
    "- Finally, the `send` method sends the request with the `body` value, which the `userName` key was given by the user in the input field."
   ]
  },
  {
   "cell_type": "markdown",
   "metadata": {},
   "source": [
    "- Example: "
   ]
  },
  {
   "cell_type": "markdown",
   "metadata": {},
   "source": [
    "```html\n",
    "<script>\n",
    "  document.addEventListener('DOMContentLoaded', function(){\n",
    "    document.getElementById('sendMessage').onclick = function(){\n",
    "\n",
    "      const userName = document.getElementById('name').value;\n",
    "      const url = 'https://jsonplaceholder.typicode.com/posts';\n",
    "      const xhr = new XMLHttpRequest();\n",
    "      xhr.open('POST', url, true);\n",
    "      xhr.setRequestHeader('Content-Type', 'application/json; charset=UTF-8');\n",
    "      xhr.onreadystatechange = function() {\n",
    "        if (xhr.readyState === 4 && xhr.status === 201) {\n",
    "          const serverResponse = JSON.parse(xhr.response);\n",
    "          document.getElementsByClassName('message')[0].textContent = serverResponse.userName + serverResponse.suffix;\n",
    "        }\n",
    "      };\n",
    "      const body = JSON.stringify({userName: userName, suffix: ' loves cats!'});\n",
    "      xhr.send(body);\n",
    "    };\n",
    "  });\n",
    "</script>\n",
    "\n",
    "<style>\n",
    "  body {\n",
    "    text-align: center;\n",
    "    font-family: \"Helvetica\", sans-serif;\n",
    "  }\n",
    "  h1 {\n",
    "    font-size: 2em;\n",
    "    font-weight: bold;\n",
    "  }\n",
    "  .box {\n",
    "    border-radius: 5px;\n",
    "    background-color: #eee;\n",
    "    padding: 20px 5px;\n",
    "  }\n",
    "  button {\n",
    "    color: white;\n",
    "    background-color: #4791d0;\n",
    "    border-radius: 5px;\n",
    "    border: 1px solid #4791d0;\n",
    "    padding: 5px 10px 8px 10px;\n",
    "  }\n",
    "  button:hover {\n",
    "    background-color: #0F5897;\n",
    "    border: 1px solid #0F5897;\n",
    "  }\n",
    "</style>\n",
    "\n",
    "<h1>Cat Friends</h1>\n",
    "<p class=\"message box\">\n",
    "  Reply from Server will be here\n",
    "</p>\n",
    "<p>\n",
    "  <label for=\"name\">Your name:\n",
    "    <input type=\"text\" id=\"name\"/>\n",
    "  </label>\n",
    "  <button id=\"sendMessage\">\n",
    "    Send Message\n",
    "  </button>\n",
    "</p>\n",
    "\n",
    "```"
   ]
  },
  {
   "cell_type": "markdown",
   "metadata": {},
   "source": [
    "![](./images/JSON_APIs_and_AJAX/postData.png)"
   ]
  }
 ],
 "metadata": {
  "kernelspec": {
   "display_name": "Python 3",
   "language": "python",
   "name": "python3"
  },
  "language_info": {
   "codemirror_mode": {
    "name": "ipython",
    "version": 3
   },
   "file_extension": ".py",
   "mimetype": "text/x-python",
   "name": "python",
   "nbconvert_exporter": "python",
   "pygments_lexer": "ipython3",
   "version": "3.7.4"
  }
 },
 "nbformat": 4,
 "nbformat_minor": 2
}
